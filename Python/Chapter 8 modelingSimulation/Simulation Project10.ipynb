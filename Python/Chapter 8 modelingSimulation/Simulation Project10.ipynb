{
 "cells": [
  {
   "cell_type": "markdown",
   "metadata": {},
   "source": [
    "# Simulation Project\n",
    "* Name: Jacob Ramah\n",
    "* Class period: 3rd Period\n",
    "* Problem number: 10\n",
    "* Problem text: In the United Kingdom’s Lotto game, a player picks six numbers from 1 to 49 for each ticket. \n",
    "\n",
    "    * Rosemary bought one ticket for herself and one for each of her four adult children. \n",
    "\n",
    "    * She had the lottery computer randomly select the six numbers on each ticket. \n",
    "\n",
    "    * When the six winning numbers were drawn, Rosemary was surprised to find that none of these numbers appeared on any of the five Lotto tickets she had bought. \n",
    "\n",
    "    * Should she be?"
   ]
  },
  {
   "cell_type": "markdown",
   "metadata": {},
   "source": [
    "### Partial Trial Setup\n",
    "* Example: 1 person walks into the ice cream parlor to order either vanilla, chocolate or strawberry ice cream"
   ]
  },
  {
   "cell_type": "code",
   "execution_count": 4,
   "metadata": {},
   "outputs": [
    {
     "name": "stdout",
     "output_type": "stream",
     "text": [
      "2 [25, 8, 4, 10, 35, 19] [49, 3, 46, 8, 19, 7]\n"
     ]
    }
   ],
   "source": [
    "import numpy as np\n",
    "# Write code to run a partial trial\n",
    "# Refer to your previous simulations as a resource!\n",
    "lotto = []\n",
    "ticket = []\n",
    "\n",
    "while len(lotto) < 6:\n",
    "    lotto_num = np.random.randint(1, 50)\n",
    "    if (lotto_num not in lotto): \n",
    "        lotto.append(lotto_num)\n",
    "\n",
    "while len(ticket) < 6:\n",
    "    ticket_num = np.random.randint(1, 50)\n",
    "    if (ticket_num not in ticket): \n",
    "        ticket.append(ticket_num)\n",
    "    \n",
    "numMatch = 0\n",
    "for num in ticket:\n",
    "    if num in lotto:\n",
    "        numMatch += 1\n",
    "\n",
    "print(numMatch, lotto, ticket)"
   ]
  },
  {
   "cell_type": "markdown",
   "metadata": {},
   "source": [
    "### Partial Trial Function\n",
    "* Can you give the above procedure a descriptive name so you can easily call it multiple times? "
   ]
  },
  {
   "cell_type": "code",
   "execution_count": 5,
   "metadata": {},
   "outputs": [
    {
     "name": "stdout",
     "output_type": "stream",
     "text": [
      "0\n"
     ]
    }
   ],
   "source": [
    "# Define a function that runs a partial trial and returns its result appropriately\n",
    "def generate_lotto():\n",
    "    lotto = []\n",
    "    while len(lotto) < 6:\n",
    "        lotto_num = np.random.randint(1, 50)\n",
    "        if (lotto_num not in lotto): \n",
    "            lotto.append(lotto_num)\n",
    "    return lotto\n",
    "\n",
    "# Creates a single ticket and returns how many numbers matched the lottery passed through\n",
    "def partial_trial(test:list):\n",
    "    ticket = []\n",
    "    while len(ticket) < 6:\n",
    "        ticket_num = np.random.randint(1, 50)\n",
    "        if (ticket_num not in ticket): \n",
    "            ticket.append(ticket_num)\n",
    "        \n",
    "    numMatch = 0\n",
    "    for num in ticket:\n",
    "        if num in test:\n",
    "            numMatch += 1\n",
    "    return numMatch\n",
    "\n",
    "lotto = generate_lotto()\n",
    "print(partial_trial(lotto))"
   ]
  },
  {
   "attachments": {},
   "cell_type": "markdown",
   "metadata": {},
   "source": [
    "## Quick simulation to see how many tickets would be needed to win the lotto. || Second sim is Number 5"
   ]
  },
  {
   "cell_type": "code",
   "execution_count": 8,
   "metadata": {},
   "outputs": [
    {
     "data": {
      "text/plain": [
       "('YOU WON THE LOTTO! It took you 6952730 tickets to win!', 6952730)"
      ]
     },
     "execution_count": 8,
     "metadata": {},
     "output_type": "execute_result"
    }
   ],
   "source": [
    "def win_lotto(lotto:list=lotto):\n",
    "    ticket = partial_trial(lotto)\n",
    "    trials = 0\n",
    "    while ticket < 6:\n",
    "        ticket = partial_trial(lotto)\n",
    "        trials += 1\n",
    "    return f\"YOU WON THE LOTTO! It took you {trials} tickets to win!\", trials\n",
    "\n",
    "win_lotto(lotto)"
   ]
  },
  {
   "cell_type": "code",
   "execution_count": 9,
   "metadata": {},
   "outputs": [],
   "source": [
    "results_string = []\n",
    "results_num = []\n",
    "\n",
    "for i in range(10_000):\n",
    "    result = win_lotto(lotto)\n",
    "    results_string.append(result[0])\n",
    "    results_num.append(result[1])\n",
    "\n",
    "total = 0\n",
    "\n",
    "for result in results_num:\n",
    "    total += result\n",
    "\n",
    "average = total / len(results_num)"
   ]
  },
  {
   "cell_type": "markdown",
   "metadata": {},
   "source": [
    "### Full Trial Setup\n",
    "* Example: 5 people walk into the ice cream parlor together: do 2 or more order chocolate? "
   ]
  },
  {
   "cell_type": "code",
   "execution_count": null,
   "metadata": {},
   "outputs": [
    {
     "name": "stdout",
     "output_type": "stream",
     "text": [
      "7\n"
     ]
    }
   ],
   "source": [
    "# Write code to run a FULL trial\n",
    "# Refer to your previous simulations as a resource!\n",
    "lotto = generate_lotto()\n",
    "\n",
    "# single_result = []\n",
    "# output = False\n",
    "\n",
    "# for i in range(5):\n",
    "#     single_result.append(\"At Least 1 Match\")\n",
    "#     result = partial_trial(lotto)\n",
    "#     if(result != 0): \n",
    "#         single_result.append(\"No Match\")\n",
    "#     if(\"At Least 1 Match\" in single_result):\n",
    "#         output = True\n",
    "        \n",
    "numMatch:float = 0\n",
    "\n",
    "for i in range(5):\n",
    "    result = partial_trial(lotto)\n",
    "    numMatch += result\n",
    "\n",
    "print(numMatch)"
   ]
  },
  {
   "cell_type": "markdown",
   "metadata": {},
   "source": [
    "### Full Trial Function\n",
    "* Can you give the above procedure a descriptive name so you can easily call it multiple times? "
   ]
  },
  {
   "cell_type": "code",
   "execution_count": null,
   "metadata": {},
   "outputs": [],
   "source": [
    "# Define a function that runs a FULL trial and returns its result appropriately\n",
    "lotto = generate_lotto()\n",
    "\n",
    "# def trial():\n",
    "#     partial_result = []\n",
    "#     output = 0\n",
    "\n",
    "#     for i in range(5):\n",
    "#         result = partial_trial(lotto)\n",
    "#         if(result != 0): \n",
    "#             partial_result.append(\"No Match\")\n",
    "#         else:\n",
    "#             partial_result.append(\"At Least 1 Match\")\n",
    "#     if(\"At Least 1 Match\" in partial_result):\n",
    "#         output = 1\n",
    "#     return output\n",
    "\n",
    "# Generates 5 tickets and checks how many numbers match from all tickets\n",
    "def trial(lotto=lotto):\n",
    "    numMatch:float = 0\n",
    "\n",
    "    for i in range(5):\n",
    "        result = partial_trial(lotto) # Generates 1 lotto ticket and then returns how many numbers match\n",
    "        numMatch += result\n",
    "    return numMatch\n",
    "    "
   ]
  },
  {
   "cell_type": "markdown",
   "metadata": {},
   "source": [
    "### Full Simulation\n",
    "* Make sure to look at your previous simulations for the number 10,000"
   ]
  },
  {
   "cell_type": "code",
   "execution_count": null,
   "metadata": {},
   "outputs": [],
   "source": [
    "# Run your full trial a large number of times\n",
    "# Record your data in an array\n",
    "lotto = generate_lotto()\n",
    "\n",
    "def run_simulation(n=10000):\n",
    "    results = []\n",
    "    for i in range(10000):\n",
    "        results.append(trial(lotto))\n",
    "    return results\n"
   ]
  },
  {
   "cell_type": "markdown",
   "metadata": {},
   "source": [
    "### Calculate the Results"
   ]
  },
  {
   "cell_type": "code",
   "execution_count": null,
   "metadata": {},
   "outputs": [
    {
     "name": "stdout",
     "output_type": "stream",
     "text": [
      "[ 160  789 1676 2236 2121 1593  854  404  122   38    6    1]\n",
      "1.6%\n",
      "[160, 9840]\n"
     ]
    }
   ],
   "source": [
    "# Using the results array, grab appropriate data and perform the necessary calculations\n",
    "sim_results = run_simulation()\n",
    "\n",
    "bincount = np.bincount(sim_results)\n",
    "print(bincount)\n",
    "\n",
    "chance = bincount[0]/100\n",
    "\n",
    "print(f\"{chance}%\")\n",
    "    \n",
    "modified_bincount = [0, 0]\n",
    "\n",
    "for i, _bin in enumerate(bincount):\n",
    "    if(i == 0):\n",
    "        modified_bincount[0] = _bin\n",
    "    else:\n",
    "        modified_bincount[1] += _bin\n",
    "\n",
    "print(modified_bincount)"
   ]
  },
  {
   "cell_type": "markdown",
   "metadata": {},
   "source": [
    "### Display the Results"
   ]
  },
  {
   "cell_type": "code",
   "execution_count": null,
   "metadata": {},
   "outputs": [
    {
     "data": {
      "image/png": "[encoded data removed]",
      "text/plain": [
       "<Figure size 432x288 with 1 Axes>"
      ]
     },
     "metadata": {},
     "output_type": "display_data"
    }
   ],
   "source": [
    "# Graphically display results related directly to your question\n",
    "# source: http://matplotlib.org/examples/pie_and_polar_charts/pie_demo_features.html\n",
    "\n",
    "# Import the library\n",
    "import matplotlib.pyplot as plot\n",
    "%matplotlib inline\n",
    "# Magic to allow the graph to display directly in this notebook\n",
    "\n",
    "# Create an array of labels\n",
    "labels = [\"0 Matching Numbers\", \"At Least 1 Matching Number\"]\n",
    "\n",
    "# Explode option\n",
    "    # 'Slices' appear distanced from the center\n",
    "        # Larger numbers = further explosion\n",
    "    # Explode array should be same size as labels and\n",
    "explode = []\n",
    "for _bin in modified_bincount:\n",
    "    explode.append(0)\n",
    "\n",
    "# Use matplotlib module subplots() to get data for various charts\n",
    "    # Returns a tuple in the form (figure,axes)\n",
    "fig1,ax1 = plot.subplots()\n",
    "\n",
    "# Use axes to create a pie chart\n",
    "    # ax1.pie(data array, explode array, labels array, starting angle)\n",
    "ax1.pie(modified_bincount, explode, labels, autopct='%1.1f%%', startangle=90, textprops={\"color\": \"black\"}, colors=[\"#47B39C\", \"#E0B154\"])\n",
    "ax1.axis('equal')  # Equal aspect ratio ensures that pie is drawn as a circle.\n",
    "plot.show()"
   ]
  },
  {
   "cell_type": "markdown",
   "metadata": {},
   "source": [
    "### Answer"
   ]
  },
  {
   "attachments": {},
   "cell_type": "markdown",
   "metadata": {},
   "source": [
    "According to the simulation there is a 1.6% chance that when 5 lotto tickets are pulled there is no match so yes, they should be surprised."
   ]
  },
  {
   "attachments": {},
   "cell_type": "markdown",
   "metadata": {},
   "source": [
    "### Additional Question\n",
    "* What is the chance that 3 numbers match?"
   ]
  },
  {
   "cell_type": "markdown",
   "metadata": {},
   "source": [
    "### Calculate the Results"
   ]
  },
  {
   "cell_type": "code",
   "execution_count": null,
   "metadata": {},
   "outputs": [
    {
     "name": "stdout",
     "output_type": "stream",
     "text": [
      "[2625, 2236, 5139]\n"
     ]
    }
   ],
   "source": [
    "# Using the results array, grab appropriate data and perform the necessary calculations\n",
    "bincount_2 = [0, 0, 0]\n",
    "# Seperates the bins into < 3 == 3 and > 3\n",
    "for i, _bin in enumerate(bincount):\n",
    "    if i < 3:\n",
    "        bincount_2[0] += _bin\n",
    "    elif i == 3:\n",
    "        bincount_2[1] = _bin\n",
    "    else:\n",
    "        bincount_2[2] += _bin\n",
    "print(bincount_2)"
   ]
  },
  {
   "cell_type": "markdown",
   "metadata": {},
   "source": [
    "### Display the Results "
   ]
  },
  {
   "cell_type": "code",
   "execution_count": null,
   "metadata": {},
   "outputs": [
    {
     "data": {
      "image/png": "[encoded data removed]",
      "text/plain": [
       "<Figure size 432x288 with 1 Axes>"
      ]
     },
     "metadata": {},
     "output_type": "display_data"
    }
   ],
   "source": [
    "# Graphically display results related directly to your question\n",
    "# source: http://matplotlib.org/examples/pie_and_polar_charts/pie_demo_features.html\n",
    "\n",
    "# Import the library\n",
    "import matplotlib.pyplot as plot\n",
    "%matplotlib inline\n",
    "# Magic to allow the graph to display directly in this notebook\n",
    "\n",
    "# Create an array of labels\n",
    "labels = [\"Less Than 3 Matching Numbers\", \"3 Matching Numbers\", \"More Than 3 Matching Numbers\"]\n",
    "\n",
    "# Explode option\n",
    "    # 'Slices' appear distanced from the center\n",
    "        # Larger numbers = further explosion\n",
    "    # Explode array should be same size as labels and\n",
    "explode = []\n",
    "for _bin in bincount_2:\n",
    "    explode.append(0)\n",
    "\n",
    "# Use matplotlib module subplots() to get data for various charts\n",
    "    # Returns a tuple in the form (figure,axes)\n",
    "fig1,ax1 = plot.subplots()\n",
    "\n",
    "# Use axes to create a pie chart\n",
    "    # ax1.pie(data array, explode array, labels array, starting angle)\n",
    "ax1.pie(bincount_2, explode, labels, autopct='%1.1f%%', startangle=90, textprops={\"color\": \"white\"}, colors=[\"#EC6B56\", \"#FFC154\", \"#47B39C\"])\n",
    "ax1.axis('equal')  # Equal aspect ratio ensures that pie is drawn as a circle.\n",
    "plot.show()"
   ]
  },
  {
   "attachments": {},
   "cell_type": "markdown",
   "metadata": {},
   "source": [
    "According to our simulation the chance that 3 numbers from 5 tickets will match is 22.4%"
   ]
  }
 ],
 "metadata": {
  "kernelspec": {
   "display_name": "Python 3",
   "language": "python",
   "name": "python3"
  },
  "language_info": {
   "codemirror_mode": {
    "name": "ipython",
    "version": 3
   },
   "file_extension": ".py",
   "mimetype": "text/x-python",
   "name": "python",
   "nbconvert_exporter": "python",
   "pygments_lexer": "ipython3",
   "version": "3.7.4"
  }
 },
 "nbformat": 4,
 "nbformat_minor": 2
}
