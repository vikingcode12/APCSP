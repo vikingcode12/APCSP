{
 "cells": [
  {
   "cell_type": "markdown",
   "metadata": {},
   "source": [
    "# Python Basics"
   ]
  },
  {
   "cell_type": "markdown",
   "metadata": {},
   "source": [
    "## Background Information"
   ]
  },
  {
   "cell_type": "markdown",
   "metadata": {},
   "source": [
    "#### Jupyter Notebooks:\n",
    "  * a notebook is a system for combining code and written description\n",
    "    * run a cell: Shift-Enter\n",
    "    * run a cell and add new: Alt-Enter\n",
    "    * keyboard shortcuts: click above and press 'h'\n",
    "  * this text is in a 'markdown cell'\n",
    "  * markdown used for words, description, and paragraphs\n",
    "    * cheat sheet: https://github.com/adam-p/markdown-here/wiki/Markdown-Cheatsheet\n",
    "\n",
    "\n",
    "#### Python:\n",
    "  * our programming language for second semester\n",
    "  * a high-level programming language\n",
    "  * popular with data scientists and academic researchers\n",
    "  * style guide: https://www.python.org/dev/peps/pep-0008/\n",
    "  \n",
    "  \n",
    "#### High-Level Programming Languages:\n",
    "  * more abstraction than a lower-level language\n",
    "  * code more readable (looks a lot like English)\n",
    "  * code is easier to debug since it is easier to read and understand\n",
    "  * do more with less: your code is often shorter than it would otherwise be\n",
    "  * code will often run more slowly than with a lower-level language\n",
    "  \n",
    "#### Open Source\n",
    "  * Python and Jupyter are open source projects\n",
    "    * free for everyone to use (even commercially)\n",
    "  * Open source software:\n",
    "    * source code shared with all, often free to use/change/distribute\n",
    "    * many different open source licenses: Creative Commons, MIT, BSD\n",
    "    * may or may not require attribution to original author\n",
    "    * many open source projects on GitHub (github.com)\n"
   ]
  },
  {
   "attachments": {},
   "cell_type": "markdown",
   "metadata": {},
   "source": [
    "## Working with cells in jupyter notebooks\n",
    "* let's learn how to add cells - bullet point\n",
    "  * we'll also change between code and markdown - sub bullet point\n",
    "    * sub sub bullet point"
   ]
  },
  {
   "cell_type": "markdown",
   "metadata": {},
   "source": [
    "## Comments"
   ]
  },
  {
   "cell_type": "code",
   "execution_count": null,
   "metadata": {},
   "outputs": [],
   "source": [
    "# comment in Python with hashes\n",
    "# add two numbers:\n",
    "print(1 + 2)"
   ]
  },
  {
   "cell_type": "markdown",
   "metadata": {},
   "source": [
    "## Whitespace\n",
    "  * in Python, whitespace matters\n",
    "    * instead of curly braces, use four spaces to mark a block "
   ]
  },
  {
   "cell_type": "code",
   "execution_count": null,
   "metadata": {},
   "outputs": [],
   "source": [
    "# in this cell, print(n) is part of the block so it is repeated:\n",
    "for n in range(11):\n",
    "    print(n)\n"
   ]
  },
  {
   "cell_type": "code",
   "execution_count": null,
   "metadata": {},
   "outputs": [],
   "source": [
    "# in this cell, print(n) is not part of the block so it only runs once:\n",
    "for n in range(11):\n",
    "    pass\n",
    "print(n)"
   ]
  },
  {
   "cell_type": "markdown",
   "metadata": {},
   "source": [
    "## Selection\n",
    "\n",
    "  * also known as decision statements or 'if-else' statements"
   ]
  },
  {
   "cell_type": "code",
   "execution_count": null,
   "metadata": {},
   "outputs": [],
   "source": [
    "# use 'elif' instead of 'else if'\n",
    "a = 2\n",
    "if a == 1:\n",
    "    print('a is 1')\n",
    "elif a == 2:\n",
    "    print('a is 2')\n",
    "else:\n",
    "    print('a is not 1 or 2')\n",
    "    \n"
   ]
  },
  {
   "cell_type": "markdown",
   "metadata": {},
   "source": [
    "## Iteration\n",
    "  * also known a loops ('for' and 'while')"
   ]
  },
  {
   "cell_type": "code",
   "execution_count": null,
   "metadata": {},
   "outputs": [],
   "source": [
    "# count from 0 to 6:\n",
    "for n in range(7):\n",
    "    print(n)\n",
    "else:\n",
    "    print(\"done\")\n",
    "    "
   ]
  },
  {
   "cell_type": "code",
   "execution_count": 64,
   "metadata": {},
   "outputs": [
    {
     "name": "stdout",
     "output_type": "stream",
     "text": [
      "9 bottles of root beer on the wall... \n",
      "   Take one down, make a float... \n",
      "8 bottles of root beer on the wall... \n",
      "   Take one down, make a float... \n",
      "7 bottles of root beer on the wall... \n",
      "   Take one down, make a float... \n",
      "6 bottles of root beer on the wall... \n",
      "   Take one down, make a float... \n",
      "5 bottles of root beer on the wall... \n",
      "   Take one down, make a float... \n",
      "4 bottles of root beer on the wall... \n",
      "   Take one down, make a float... \n",
      "3 bottles of root beer on the wall... \n",
      "   Take one down, make a float... \n",
      "2 bottles of root beer on the wall... \n",
      "   Take one down, make a float... \n",
      "1 bottles of root beer on the wall... \n",
      "   Take one down, make a float... \n",
      "No more bottles of root beer on the wall... \n",
      "   No more floats...\n"
     ]
    }
   ],
   "source": [
    "# try a while loop\n",
    "# read code, THEN press Shift-Enter\n",
    "\n",
    "bottle_count = 9\n",
    "output = \"\"\n",
    "\n",
    "while bottle_count > 0:\n",
    "    output += str(bottle_count) + ' bottles of root beer on the wall... \\n' # str converts bottle_count to a string\n",
    "    output += '   Take one down, make a float... \\n'\n",
    "    bottle_count = bottle_count - 1\n",
    "else:\n",
    "    output += \"No more bottles of root beer on the wall... \\n   No more floats...\"\n",
    "\n",
    "\n",
    "print(output)"
   ]
  },
  {
   "cell_type": "markdown",
   "metadata": {},
   "source": [
    "## Writing Procedures\n",
    "\n",
    "  * using iteration and selection together"
   ]
  },
  {
   "cell_type": "code",
   "execution_count": 8,
   "metadata": {},
   "outputs": [
    {
     "name": "stdout",
     "output_type": "stream",
     "text": [
      "0 is an even number. \n",
      "\n",
      "1 is an odd number. \n",
      "\n",
      "\n",
      "2 is an even number. \n",
      "\n",
      "3 is an odd number. \n",
      "\n",
      "\n",
      "4 is an even number. \n",
      "\n"
     ]
    }
   ],
   "source": [
    "# read this code, THEN press Shift-Enter\n",
    "for i in range(5):    #5 numbers, starting at 0 gives 0,1,2,3,4\n",
    "    if i % 2 == 1:\n",
    "        print(i,\"is an odd number. \\n\")\n",
    "    else:\n",
    "        print(i,\"is an even number. \\n\")\n",
    "        # print(\"Whitespace takes some time to understand.\")\n",
    "        #change indentation of above line and predict output!"
   ]
  },
  {
   "cell_type": "code",
   "execution_count": 2,
   "metadata": {},
   "outputs": [
    {
     "name": "stdout",
     "output_type": "stream",
     "text": [
      "['string1', 'string2', 'string3']\n",
      "['string1', 'string2', 'string3', 'string4']\n"
     ]
    }
   ],
   "source": [
    "# using the append method:\n",
    "\n",
    "a = [\"string1\", \"string2\", \"string3\"]\n",
    "\n",
    "print(a)\n",
    "a.append(\"string4\")\n",
    "print(a)\n"
   ]
  },
  {
   "cell_type": "markdown",
   "metadata": {},
   "source": [
    "## Numbers and mathematical operators"
   ]
  },
  {
   "cell_type": "code",
   "execution_count": 10,
   "metadata": {},
   "outputs": [
    {
     "name": "stdout",
     "output_type": "stream",
     "text": [
      "3\n",
      "5\n",
      "12\n"
     ]
    }
   ],
   "source": [
    " # addition\n",
    "print(1 + 2)\n",
    " # subtraction\n",
    "print(10 - 5)\n",
    " # multiplication\n",
    "print(2*6)"
   ]
  },
  {
   "cell_type": "code",
   "execution_count": 11,
   "metadata": {},
   "outputs": [
    {
     "name": "stdout",
     "output_type": "stream",
     "text": [
      "4.5\n",
      "4\n",
      "1\n"
     ]
    }
   ],
   "source": [
    " # floating-point division (true division)\n",
    "print(9/2)\n",
    " # integer division\n",
    "print(9//2)\n",
    " # modulus operator\n",
    "print(9%2)"
   ]
  },
  {
   "cell_type": "code",
   "execution_count": 13,
   "metadata": {},
   "outputs": [
    {
     "name": "stdout",
     "output_type": "stream",
     "text": [
      "25\n"
     ]
    }
   ],
   "source": [
    "import math as MATH\n",
    "# 5 raised to the 2nd power (5^2)\n",
    "print(5**2)\n"
   ]
  },
  {
   "cell_type": "code",
   "execution_count": 17,
   "metadata": {},
   "outputs": [
    {
     "name": "stdout",
     "output_type": "stream",
     "text": [
      "[47, 41, 27]\n"
     ]
    }
   ],
   "source": [
    "import random\n",
    "\n",
    "# generate 3 random numbers between 10 and 50\n",
    "random_numbers = random.sample(range(10, 50), 3)\n",
    "\n",
    "\n",
    "print(random_numbers)"
   ]
  },
  {
   "cell_type": "code",
   "execution_count": 39,
   "metadata": {
    "collapsed": true
   },
   "outputs": [
    {
     "name": "stdout",
     "output_type": "stream",
     "text": [
      "\u001b[1;31mDocstring:\u001b[0m\n",
      "init() -> (numpass, numfail)\n",
      "initialize all imported pygame modules\n",
      "\u001b[1;31mType:\u001b[0m      builtin_function_or_method\n"
     ]
    }
   ],
   "source": [
    "# access documentation\n",
    "import pygame as pg\n",
    "import random\n",
    "# pg.init()\n",
    "# print(pg.__doc__)\n",
    "# help(pg)\n",
    "# ?random.randint"
   ]
  },
  {
   "cell_type": "markdown",
   "metadata": {},
   "source": [
    "## Variables and Functions"
   ]
  },
  {
   "cell_type": "code",
   "execution_count": null,
   "metadata": {},
   "outputs": [],
   "source": [
    "# to create a variable, simply assign a value to it:\n",
    "a = 1\n"
   ]
  },
  {
   "cell_type": "code",
   "execution_count": null,
   "metadata": {},
   "outputs": [],
   "source": [
    "# use def to define a function:\n",
    "def function():\n",
    "    pass\n"
   ]
  },
  {
   "cell_type": "markdown",
   "metadata": {},
   "source": [
    "## Strings"
   ]
  },
  {
   "cell_type": "code",
   "execution_count": 22,
   "metadata": {},
   "outputs": [
    {
     "name": "stdout",
     "output_type": "stream",
     "text": [
      "WOW\n",
      "Also wow\n"
     ]
    }
   ],
   "source": [
    "# single or double quotes for strings, but be consistent\n",
    "print(\"WOW\")\n",
    "print('Also wow')"
   ]
  },
  {
   "cell_type": "code",
   "execution_count": 71,
   "metadata": {},
   "outputs": [
    {
     "name": "stdout",
     "output_type": "stream",
     "text": [
      "This is a new line \n",
      "of text\n"
     ]
    },
    {
     "ename": "KeyboardInterrupt",
     "evalue": "",
     "output_type": "error",
     "traceback": [
      "\u001b[1;31m---------------------------------------------------------------------------\u001b[0m",
      "\u001b[1;31mKeyboardInterrupt\u001b[0m                         Traceback (most recent call last)",
      "\u001b[1;32m<ipython-input-71-075173f441be>\u001b[0m in \u001b[0;36m<module>\u001b[1;34m\u001b[0m\n\u001b[0;32m      3\u001b[0m \u001b[0mprint\u001b[0m\u001b[1;33m(\u001b[0m\u001b[1;34m'This is a new line '\u001b[0m \u001b[1;33m+\u001b[0m \u001b[0mnew_line\u001b[0m \u001b[1;33m+\u001b[0m \u001b[1;34m'of text'\u001b[0m\u001b[1;33m)\u001b[0m\u001b[1;33m\u001b[0m\u001b[1;33m\u001b[0m\u001b[0m\n\u001b[0;32m      4\u001b[0m \u001b[1;32mwhile\u001b[0m \u001b[1;32mTrue\u001b[0m\u001b[1;33m:\u001b[0m\u001b[1;33m\u001b[0m\u001b[1;33m\u001b[0m\u001b[0m\n\u001b[1;32m----> 5\u001b[1;33m     \u001b[1;32mpass\u001b[0m\u001b[1;33m\u001b[0m\u001b[1;33m\u001b[0m\u001b[0m\n\u001b[0m",
      "\u001b[1;31mKeyboardInterrupt\u001b[0m: "
     ]
    }
   ],
   "source": [
    "# backslash to encode special characters\n",
    "new_line = \"\\n\"     # finish this line with your teacher\n",
    "print('This is a new line ' + new_line + 'of text')"
   ]
  },
  {
   "cell_type": "code",
   "execution_count": 12,
   "metadata": {},
   "outputs": [
    {
     "name": "stdout",
     "output_type": "stream",
     "text": [
      "This will not give a \\n new line of text\n",
      "This will give a\n",
      "new line of text\n"
     ]
    }
   ],
   "source": [
    "# PRELOADED\n",
    "# r to represent a raw string (example: if you want a backslash to appear and not signify a new line)\n",
    "not_new_line =  r\"\\n\"   # finish this line with your teacher\n",
    "new_line = \"\\n\"\n",
    "print('This will not give a ' + not_new_line + ' new line of text')\n",
    "print ('This will give a' + new_line + 'new line of text')"
   ]
  },
  {
   "cell_type": "code",
   "execution_count": null,
   "metadata": {
    "scrolled": true
   },
   "outputs": [],
   "source": [
    "# triple (double) quotes to create a multi-line string\n",
    "myMessage = \"\"\"The Red Wheelbarrow\n",
    "William Carlos Williams\n",
    "\n",
    " so much depends\n",
    "upon\n",
    "\n",
    "a red wheel\n",
    "barrow\n",
    "\n",
    "glazed with rain\n",
    "water\n",
    "\n",
    "beside the white\n",
    "chickens.\"\"\"\n",
    "print(myMessage)"
   ]
  },
  {
   "cell_type": "markdown",
   "metadata": {
    "collapsed": true
   },
   "source": [
    "## Task 1\n",
    "\n",
    "* Write a for-loop that prints out all positive perfect squares less than 31^2 that are not divisible by 3"
   ]
  },
  {
   "cell_type": "code",
   "execution_count": 40,
   "metadata": {},
   "outputs": [
    {
     "name": "stdout",
     "output_type": "stream",
     "text": [
      "1, 4, 16, 25, 49, 64, 100, 121, 169, 196, 256, 289, 361, 400, 484, 529, 625, 676, 784, 841, \n"
     ]
    }
   ],
   "source": [
    "import math as MATH\n",
    "\n",
    "output = \"\"\n",
    "\n",
    "for num in range(31**2):\n",
    "    if MATH.sqrt(num) % 1 == 0 and num % 3 != 0:\n",
    "        output += str(num) + \", \"\n",
    "\n",
    "print(output)\n"
   ]
  },
  {
   "cell_type": "markdown",
   "metadata": {
    "collapsed": true
   },
   "source": [
    "## Task 2\n",
    "\n",
    "* Part 1: define a function, describe_temp(current_temp), that returns a descriptive string that describes the current temperature\n",
    "  * Sample outputs: \n",
    "    * describe_temp(82) might return '82 degrees is beach weather!'\n",
    "    * describe_temp(71) might return '71 degrees is barbecue weather!'\n",
    "    * describe_temp(25) might return '25 degrees is Chicago weather.'\n",
    "\n",
    "* Part 2: Write an expression that passes a random number from 0 to 100 to describe_temp "
   ]
  },
  {
   "cell_type": "code",
   "execution_count": 70,
   "metadata": {},
   "outputs": [
    {
     "name": "stdout",
     "output_type": "stream",
     "text": [
      "52° Light jacket may be needed.\n"
     ]
    }
   ],
   "source": [
    "import random\n",
    "\n",
    "temp = random.randint(0, 100)\n",
    "\n",
    "def describe_temp(temp):\n",
    "    output = ''\n",
    "    if temp <= 32:\n",
    "        output = f\"{temp}° It's cold outside!\"\n",
    "    elif temp <= 40:\n",
    "        output = f\"{temp}° It's above freezing! We can go outside!\"\n",
    "    elif temp <= 60:\n",
    "        output = f\"{temp}° Light jacket may be needed.\"\n",
    "    elif temp <= 80:\n",
    "        output = f\"{temp}° Wow its warm outside!\"\n",
    "    elif temp <= 90:\n",
    "        output = f\"{temp}° Get some suncreen!\"\n",
    "    else:\n",
    "        output = \"ITS TOO HOT!\"\n",
    "    print(output)\n",
    "\n",
    "describe_temp(temp)\n"
   ]
  }
 ],
 "metadata": {
  "kernelspec": {
   "display_name": "Python 3",
   "language": "python",
   "name": "python3"
  },
  "language_info": {
   "codemirror_mode": {
    "name": "ipython",
    "version": 3
   },
   "file_extension": ".py",
   "mimetype": "text/x-python",
   "name": "python",
   "nbconvert_exporter": "python",
   "pygments_lexer": "ipython3",
   "version": "3.7.4"
  },
  "vscode": {
   "interpreter": {
    "hash": "ad2bdc8ecc057115af97d19610ffacc2b4e99fae6737bb82f5d7fb13d2f2c186"
   }
  }
 },
 "nbformat": 4,
 "nbformat_minor": 1
}
