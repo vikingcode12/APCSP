{
 "cells": [
  {
   "attachments": {},
   "cell_type": "markdown",
   "metadata": {},
   "source": [
    "# Simulation Project\n",
    "* Name: Jacob Ramah\n",
    "* Class period: 3rd Period\n",
    "* Problem number: 10\n",
    "* Problem text: In the United Kingdom’s Lotto game, a player picks six numbers from 1 to 49 for each ticket. \n",
    "\n",
    "    * Rosemary bought one ticket for herself and one for each of her four adult children. \n",
    "\n",
    "    * She had the lottery computer randomly select the six numbers on each ticket. \n",
    "\n",
    "    * When the six winning numbers were drawn, Rosemary was surprised to find that none of these numbers appeared on any of the five Lotto tickets she had bought. \n",
    "\n",
    "    * Should she be?"
   ]
  },
  {
   "cell_type": "markdown",
   "metadata": {},
   "source": [
    "### Partial Trial Setup\n",
    "* Example: 1 person walks into the ice cream parlor to order either vanilla, chocolate or strawberry ice cream"
   ]
  },
  {
   "cell_type": "code",
   "execution_count": 183,
   "metadata": {
    "collapsed": true
   },
   "outputs": [
    {
     "name": "stdout",
     "output_type": "stream",
     "text": [
      "3 [36, 3, 9, 26, 48, 12] [13, 48, 40, 26, 19, 9]\n"
     ]
    }
   ],
   "source": [
    "import numpy as np\n",
    "# Write code to run a partial trial\n",
    "# Refer to your previous simulations as a resource!\n",
    "lotto = []\n",
    "ticket = []\n",
    "\n",
    "while len(lotto) < 6:\n",
    "    lotto_num = np.random.randint(1, 50)\n",
    "    if (lotto_num not in lotto): \n",
    "        lotto.append(lotto_num)\n",
    "\n",
    "while len(ticket) < 6:\n",
    "    ticket_num = np.random.randint(1, 50)\n",
    "    if (ticket_num not in ticket): \n",
    "        ticket.append(ticket_num)\n",
    "    \n",
    "numMatch = 0\n",
    "for num in ticket:\n",
    "    if num in lotto:\n",
    "        numMatch += 1\n",
    "\n",
    "print(numMatch, lotto, ticket)"
   ]
  },
  {
   "cell_type": "markdown",
   "metadata": {},
   "source": [
    "### Partial Trial Function\n",
    "* Can you give the above procedure a descriptive name so you can easily call it multiple times? "
   ]
  },
  {
   "cell_type": "code",
   "execution_count": 247,
   "metadata": {
    "collapsed": true
   },
   "outputs": [
    {
     "name": "stdout",
     "output_type": "stream",
     "text": [
      "2\n"
     ]
    }
   ],
   "source": [
    "# Define a function that runs a partial trial and returns its result appropriately\n",
    "def generate_lotto():\n",
    "    lotto = []\n",
    "    while len(lotto) < 6:\n",
    "        lotto_num = np.random.randint(1, 50)\n",
    "        if (lotto_num not in lotto): \n",
    "            lotto.append(lotto_num)\n",
    "    return lotto\n",
    "\n",
    "\n",
    "def partial_trial(test:list):\n",
    "    ticket = []\n",
    "    while len(ticket) < 6:\n",
    "        ticket_num = np.random.randint(1, 50)\n",
    "        if (ticket_num not in ticket): \n",
    "            ticket.append(ticket_num)\n",
    "        \n",
    "    numMatch = 0\n",
    "    for num in ticket:\n",
    "        if num in test:\n",
    "            numMatch += 1\n",
    "    return numMatch\n",
    "\n",
    "lotto = generate_lotto()\n",
    "print(partial_trial(lotto))"
   ]
  },
  {
   "cell_type": "markdown",
   "metadata": {},
   "source": [
    "### Full Trial Setup\n",
    "* Example: 5 people walk into the ice cream parlor together: do 2 or more order chocolate? "
   ]
  },
  {
   "cell_type": "code",
   "execution_count": 381,
   "metadata": {
    "collapsed": true
   },
   "outputs": [
    {
     "name": "stdout",
     "output_type": "stream",
     "text": [
      "True\n"
     ]
    }
   ],
   "source": [
    "# Write code to run a FULL trial\n",
    "# Refer to your previous simulations as a resource!\n",
    "lotto = generate_lotto()\n",
    "\n",
    "single_result = []\n",
    "output = False\n",
    "\n",
    "for i in range(5):\n",
    "    single_result.append(\"At Least 1 Match\")\n",
    "    result = partial_trial(lotto)\n",
    "    if(result != 0): \n",
    "        single_result.append(\"No Match\")\n",
    "    if(\"At Least 1 Match\" in single_result):\n",
    "        output = True\n",
    "        \n",
    "\n",
    "print(output)\n",
    "\n",
    "\n",
    "\n",
    "        \n",
    "\n",
    "    "
   ]
  },
  {
   "cell_type": "markdown",
   "metadata": {},
   "source": [
    "### Full Trial Function\n",
    "* Can you give the above procedure a descriptive name so you can easily call it multiple times? "
   ]
  },
  {
   "cell_type": "code",
   "execution_count": 408,
   "metadata": {
    "collapsed": true
   },
   "outputs": [],
   "source": [
    "# Define a function that runs a FULL trial and returns its result appropriately\n",
    "lotto = generate_lotto()\n",
    "\n",
    "def trial():\n",
    "    partial_result = []\n",
    "    output = 0\n",
    "\n",
    "    for i in range(5):\n",
    "        result = partial_trial(lotto)\n",
    "        if(result != 0): \n",
    "            partial_result.append(\"No Match\")\n",
    "        else:\n",
    "            partial_result.append(\"At Least 1 Match\")\n",
    "        if(\"At Least 1 Match\" in partial_result):\n",
    "            output = 1\n",
    "    return output\n",
    "    "
   ]
  },
  {
   "cell_type": "markdown",
   "metadata": {},
   "source": [
    "### Full Simulation\n",
    "* Make sure to look at your previous simulations for the number 10,000"
   ]
  },
  {
   "cell_type": "code",
   "execution_count": 411,
   "metadata": {
    "collapsed": true
   },
   "outputs": [
    {
     "name": "stdout",
     "output_type": "stream",
     "text": [
      "True\n"
     ]
    }
   ],
   "source": [
    "# Run your full trial a large number of times\n",
    "# Record your data in an array\n",
    "lotto = generate_lotto()\n",
    "sim_results = []\n",
    "\n",
    "\n",
    "for i in range(10000):\n",
    "    sim_results.append(trial())\n"
   ]
  },
  {
   "cell_type": "markdown",
   "metadata": {},
   "source": [
    "### Calculate the Results"
   ]
  },
  {
   "cell_type": "code",
   "execution_count": null,
   "metadata": {
    "collapsed": true
   },
   "outputs": [],
   "source": [
    "# Using the results array, grab appropriate data and perform the necessary calculations"
   ]
  },
  {
   "cell_type": "markdown",
   "metadata": {},
   "source": [
    "### Display the Results"
   ]
  },
  {
   "cell_type": "code",
   "execution_count": null,
   "metadata": {
    "collapsed": true
   },
   "outputs": [],
   "source": [
    "# Graphically display results related directly to your question"
   ]
  },
  {
   "cell_type": "markdown",
   "metadata": {},
   "source": [
    "### Answer"
   ]
  },
  {
   "cell_type": "markdown",
   "metadata": {},
   "source": [
    "*Provide an answer and reasoning here"
   ]
  },
  {
   "cell_type": "markdown",
   "metadata": {},
   "source": [
    "### Additional Question\n",
    "* State one additional question of interest (of your choice) using the data from your simulation"
   ]
  },
  {
   "cell_type": "markdown",
   "metadata": {},
   "source": [
    "### Calculate the Results"
   ]
  },
  {
   "cell_type": "code",
   "execution_count": null,
   "metadata": {
    "collapsed": true
   },
   "outputs": [],
   "source": [
    "# Using the results array, grab appropriate data and perform the necessary calculations"
   ]
  },
  {
   "cell_type": "markdown",
   "metadata": {},
   "source": [
    "### Display the Results "
   ]
  },
  {
   "cell_type": "code",
   "execution_count": null,
   "metadata": {
    "collapsed": true
   },
   "outputs": [],
   "source": [
    "# Graphically display results related directly to your question"
   ]
  }
 ],
 "metadata": {
  "kernelspec": {
   "display_name": "Python 3",
   "language": "python",
   "name": "python3"
  },
  "language_info": {
   "codemirror_mode": {
    "name": "ipython",
    "version": 3
   },
   "file_extension": ".py",
   "mimetype": "text/x-python",
   "name": "python",
   "nbconvert_exporter": "python",
   "pygments_lexer": "ipython3",
   "version": "3.7.4"
  }
 },
 "nbformat": 4,
 "nbformat_minor": 2
}
