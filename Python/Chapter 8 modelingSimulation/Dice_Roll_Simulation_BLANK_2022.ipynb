{
 "cells": [
  {
   "cell_type": "markdown",
   "metadata": {},
   "source": [
    "# Randomly Generate Dice Rolls\n",
    "* Use numpy.random.randint(min index, max index + 1, times to repeat)\n",
    "    * link: https://numpy.org/doc/stable/reference/random/generated/numpy.random.randint.html\n",
    "* You should generate numbers numbers between 1 and 6\n",
    "    * These are the values on the faces of a die\n",
    "* You should \"roll the die\" 1000 times\n",
    "    * That is, you should generate 1000 random numbers between 1 and 6 (inclusive)"
   ]
  },
  {
   "cell_type": "code",
   "execution_count": 2,
   "metadata": {
    "collapsed": true
   },
   "outputs": [
    {
     "name": "stdout",
     "output_type": "stream",
     "text": [
      "[2 5 4 1 3 6 2 4 3 4 2 3 5 1 2 2 3 5 1 4 3 6 1 5 3 6 5 5 3 1 5 5 3 4 1 3 2\n",
      " 5 1 2 5 1 2 4 2 6 6 4 6 6 4 4 5 6 6 1 4 2 6 6 3 6 6 1 1 3 2 5 6 3 4 2 1 2\n",
      " 3 6 5 6 4 3 5 6 3 6 6 6 3 2 5 2 5 1 3 5 2 1 3 4 1 6 3 4 2 6 6 4 6 5 4 1 2\n",
      " 4 4 3 3 3 1 3 3 5 6 3 5 4 6 6 3 4 6 1 6 2 5 3 4 5 3 5 3 3 5 5 6 3 5 2 5 6\n",
      " 5 4 3 2 3 2 4 5 4 2 3 2 1 1 3 1 2 2 5 2 2 1 5 1 6 5 4 3 1 6 2 2 1 3 4 2 2\n",
      " 2 4 5 4 6 5 1 4 2 1 1 3 3 3 4 4 6 5 1 5 3 1 2 1 4 1 4 5 5 3 4 1 1 6 3 3 4\n",
      " 4 2 1 2 3 5 3 6 4 1 6 1 1 4 6 5 5 4 3 4 2 1 1 5 2 4 5 2 2 2 3 1 5 5 5 6 4\n",
      " 6 3 6 2 5 1 3 5 2 1 6 1 2 1 4 6 2 2 2 2 4 6 2 2 4 1 5 1 5 6 3 6 4 1 3 5 6\n",
      " 2 4 6 4 5 6 4 2 6 1 4 3 3 4 2 4 3 4 1 3 3 1 6 3 3 4 2 2 6 3 1 1 6 4 1 6 3\n",
      " 5 5 6 4 5 4 4 3 1 4 4 6 5 3 2 4 4 4 4 3 3 2 1 3 3 1 1 4 3 2 6 6 4 4 3 3 6\n",
      " 5 1 2 4 5 5 4 6 3 4 5 1 4 3 4 2 5 6 4 3 1 2 6 2 1 4 2 1 2 4 5 4 2 3 1 1 1\n",
      " 6 1 4 1 5 2 6 6 6 4 2 3 1 3 3 4 6 1 6 3 6 3 4 1 6 4 1 3 1 3 2 5 2 2 2 2 4\n",
      " 4 4 3 5 2 5 5 6 1 1 2 6 5 6 4 6 5 5 6 6 1 5 2 1 2 2 2 2 5 4 6 5 4 5 3 1 3\n",
      " 3 2 1 5 1 5 1 5 2 2 5 4 6 5 6 5 5 4 5 4 4 6 4 5 2 4 1 3 2 5 2 6 5 1 6 4 5\n",
      " 4 4 2 1 6 5 2 4 6 5 4 5 2 6 6 4 3 2 3 3 3 5 5 3 2 2 4 6 5 5 5 6 3 6 1 2 5\n",
      " 2 5 5 4 2 3 5 6 2 2 6 1 3 4 2 5 5 5 3 5 6 5 2 3 6 1 4 4 6 1 1 5 1 6 5 4 4\n",
      " 4 5 3 3 3 4 6 4 2 1 3 3 4 2 2 2 6 4 5 5 3 1 5 5 1 6 3 5 6 1 1 6 4 6 4 1 5\n",
      " 5 3 2 5 3 5 6 6 4 5 1 2 1 1 3 6 5 1 1 4 4 4 4 5 4 1 2 2 3 1 4 4 4 2 6 2 5\n",
      " 6 5 3 1 3 3 2 6 2 5 3 6 5 2 2 2 5 3 1 4 3 5 6 3 5 4 1 3 3 1 4 2 5 5 1 3 6\n",
      " 4 5 4 2 4 2 3 4 2 1 4 1 1 4 1 3 1 5 5 6 1 5 4 5 3 2 2 1 6 6 3 5 5 2 6 2 6\n",
      " 3 2 4 1 5 4 5 1 4 6 2 1 6 3 4 4 4 5 2 4 2 5 4 4 4 4 5 1 2 4 4 3 5 1 5 2 6\n",
      " 1 2 3 4 5 1 1 1 4 5 6 4 6 1 1 3 6 6 3 5 1 2 3 2 6 1 6 5 3 2 3 5 4 6 5 3 4\n",
      " 1 3 6 1 2 4 3 5 5 2 2 4 4 3 4 6 5 2 1 2 2 5 4 4 2 5 5 4 4 4 3 1 4 6 3 1 4\n",
      " 4 3 1 4 1 6 6 4 2 4 4 6 4 2 5 4 4 5 2 4 6 1 3 6 4 3 1 6 1 6 1 1 4 6 4 3 5\n",
      " 4 6 2 3 6 4 2 6 1 4 5 5 1 6 2 6 2 2 4 6 2 5 5 1 4 3 1 6 5 2 5 3 1 6 1 4 3\n",
      " 5 6 1 1 2 5 6 3 1 1 2 4 6 5 6 2 1 4 5 3 6 6 5 1 6 5 1 5 1 4 3 6 6 6 3 2 6\n",
      " 3 3 5 1 1 6 1 2 4 4 3 1 6 5 1 3 5 3 3 4 2 3 3 6 2 2 5 1 5 4 4 1 1 3 5 5 3\n",
      " 1]\n"
     ]
    }
   ],
   "source": [
    "import numpy as np\n",
    "from numpy.random import randint\n",
    "import js as console # I thought this was funny\n",
    "\n",
    "rolls_1000 = randint(1,7,1000)\n",
    "console.log(rolls_1000)\n"
   ]
  },
  {
   "cell_type": "markdown",
   "metadata": {},
   "source": [
    "# Count the results using Bin Count\n",
    "* Useful method: numpy.bincount()\n",
    "* Counts the number of times a number appears in a list\n",
    "* Returns an array with counts\n",
    "  * link: https://numpy.org/doc/stable/reference/generated/numpy.bincount.html"
   ]
  },
  {
   "cell_type": "code",
   "execution_count": 3,
   "metadata": {
    "collapsed": true
   },
   "outputs": [
    {
     "name": "stdout",
     "output_type": "stream",
     "text": [
      "The number of 1's in this bin is 163\n",
      "The number of 2's in this bin is 157\n",
      "The number of 3's in this bin is 158\n",
      "The number of 4's in this bin is 187\n",
      "The number of 5's in this bin is 176\n",
      "The number of 6's in this bin is 159\n"
     ]
    }
   ],
   "source": [
    "bins = np.bincount(rolls_1000)\n",
    "bins = bins[1::]\n",
    "\n",
    "for i in range(6):\n",
    "    print(f\"The number of {i+1}'s in this bin is {bins[i]}\") \n"
   ]
  },
  {
   "cell_type": "markdown",
   "metadata": {},
   "source": [
    "# Histogram\n",
    "* Useful method: np.random.choice()\n",
    "  * link: https://numpy.org/doc/stable/reference/random/generated/numpy.random.choice.html"
   ]
  },
  {
   "cell_type": "code",
   "execution_count": 6,
   "metadata": {
    "collapsed": true
   },
   "outputs": [
    {
     "data": {
      "text/plain": [
       "(array([163., 157., 158., 187., 176., 159.]),\n",
       " array([1, 2, 3, 4, 5, 6, 7]),\n",
       " <a list of 6 Patch objects>)"
      ]
     },
     "execution_count": 6,
     "metadata": {},
     "output_type": "execute_result"
    },
    {
     "data": {
      "image/png": "[encoded data removed]",
      "text/plain": [
       "<Figure size 432x288 with 1 Axes>"
      ]
     },
     "metadata": {
      "needs_background": "light"
     },
     "output_type": "display_data"
    }
   ],
   "source": [
    "from matplotlib import pyplot as plt \n",
    "%matplotlib inline\n",
    "\n",
    "binsArr = [1, 2, 3, 4, 5, 6, 7]\n",
    "\n",
    "colorArr = [\"red\", \"green\", \"blue\", \"purple\"]\n",
    "\n",
    "randColor = np.random.choice(colorArr)\n",
    "randEdge = np.random.choice(colorArr)\n",
    "\n",
    "plt.title(\"Roll Distribution Over 1000 Rolls\")\n",
    "plt.xlabel(\"Die Number\")\n",
    "plt.ylabel(\"Frequency\")\n",
    "plt.hist(rolls_1000, binsArr, align=\"left\", color=randColor, edgecolor=randEdge, rwidth=0.8)\n",
    "\n"
   ]
  }
 ],
 "metadata": {
  "kernelspec": {
   "display_name": "Python 3",
   "language": "python",
   "name": "python3"
  },
  "language_info": {
   "codemirror_mode": {
    "name": "ipython",
    "version": 3
   },
   "file_extension": ".py",
   "mimetype": "text/x-python",
   "name": "python",
   "nbconvert_exporter": "python",
   "pygments_lexer": "ipython3",
   "version": "3.7.4"
  },
  "vscode": {
   "interpreter": {
    "hash": "ad2bdc8ecc057115af97d19610ffacc2b4e99fae6737bb82f5d7fb13d2f2c186"
   }
  }
 },
 "nbformat": 4,
 "nbformat_minor": 2
}
