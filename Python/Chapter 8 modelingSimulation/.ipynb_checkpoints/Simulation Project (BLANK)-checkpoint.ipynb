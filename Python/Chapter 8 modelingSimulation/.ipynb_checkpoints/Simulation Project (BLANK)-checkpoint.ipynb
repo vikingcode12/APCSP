{
 "cells": [
  {
   "cell_type": "markdown",
   "metadata": {},
   "source": [
    "# Simulation Project\n",
    "* Name: Jacob Ramah\n",
    "* Class period: 3rd Period\n",
    "* Problem number: 10\n",
    "* Problem text: In the United Kingdom’s Lotto game, a player picks six numbers from 1 to 49 for each ticket. \n",
    "\n",
    "    * Rosemary bought one ticket for herself and one for each of her four adult children. \n",
    "\n",
    "    * She had the lottery computer randomly select the six numbers on each ticket. \n",
    "\n",
    "    * When the six winning numbers were drawn, Rosemary was surprised to find that none of these numbers appeared on any of the five Lotto tickets she had bought. \n",
    "\n",
    "    * Should she be?"
   ]
  },
  {
   "cell_type": "markdown",
   "metadata": {},
   "source": [
    "### Partial Trial Setup\n",
    "* Example: 1 person walks into the ice cream parlor to order either vanilla, chocolate or strawberry ice cream"
   ]
  },
  {
   "cell_type": "code",
   "execution_count": 1,
   "metadata": {},
   "outputs": [
    {
     "name": "stdout",
     "output_type": "stream",
     "text": [
      "0 [38, 20, 46, 4, 28, 31] [12, 49, 9, 13, 34, 43]\n"
     ]
    }
   ],
   "source": [
    "import numpy as np\n",
    "# Write code to run a partial trial\n",
    "# Refer to your previous simulations as a resource!\n",
    "lotto = []\n",
    "ticket = []\n",
    "\n",
    "while len(lotto) < 6:\n",
    "    lotto_num = np.random.randint(1, 50)\n",
    "    if (lotto_num not in lotto): \n",
    "        lotto.append(lotto_num)\n",
    "\n",
    "while len(ticket) < 6:\n",
    "    ticket_num = np.random.randint(1, 50)\n",
    "    if (ticket_num not in ticket): \n",
    "        ticket.append(ticket_num)\n",
    "    \n",
    "numMatch = 0\n",
    "for num in ticket:\n",
    "    if num in lotto:\n",
    "        numMatch += 1\n",
    "\n",
    "print(numMatch, lotto, ticket)"
   ]
  },
  {
   "cell_type": "markdown",
   "metadata": {},
   "source": [
    "### Partial Trial Function\n",
    "* Can you give the above procedure a descriptive name so you can easily call it multiple times? "
   ]
  },
  {
   "cell_type": "code",
   "execution_count": 2,
   "metadata": {},
   "outputs": [
    {
     "name": "stdout",
     "output_type": "stream",
     "text": [
      "0\n"
     ]
    }
   ],
   "source": [
    "# Define a function that runs a partial trial and returns its result appropriately\n",
    "def generate_lotto():\n",
    "    lotto = []\n",
    "    while len(lotto) < 6:\n",
    "        lotto_num = np.random.randint(1, 50)\n",
    "        if (lotto_num not in lotto): \n",
    "            lotto.append(lotto_num)\n",
    "    return lotto\n",
    "\n",
    "\n",
    "def partial_trial(test:list):\n",
    "    ticket = []\n",
    "    while len(ticket) < 6:\n",
    "        ticket_num = np.random.randint(1, 50)\n",
    "        if (ticket_num not in ticket): \n",
    "            ticket.append(ticket_num)\n",
    "        \n",
    "    numMatch = 0\n",
    "    for num in ticket:\n",
    "        if num in test:\n",
    "            numMatch += 1\n",
    "    return numMatch\n",
    "\n",
    "lotto = generate_lotto()\n",
    "print(partial_trial(lotto))"
   ]
  },
  {
   "cell_type": "markdown",
   "metadata": {},
   "source": [
    "### Full Trial Setup\n",
    "* Example: 5 people walk into the ice cream parlor together: do 2 or more order chocolate? "
   ]
  },
  {
   "cell_type": "code",
   "execution_count": 3,
   "metadata": {},
   "outputs": [
    {
     "name": "stdout",
     "output_type": "stream",
     "text": [
      "3\n"
     ]
    }
   ],
   "source": [
    "# Write code to run a FULL trial\n",
    "# Refer to your previous simulations as a resource!\n",
    "lotto = generate_lotto()\n",
    "\n",
    "# single_result = []\n",
    "# output = False\n",
    "\n",
    "# for i in range(5):\n",
    "#     single_result.append(\"At Least 1 Match\")\n",
    "#     result = partial_trial(lotto)\n",
    "#     if(result != 0): \n",
    "#         single_result.append(\"No Match\")\n",
    "#     if(\"At Least 1 Match\" in single_result):\n",
    "#         output = True\n",
    "        \n",
    "numMatch:float = 0\n",
    "\n",
    "for i in range(5):\n",
    "    result = partial_trial(lotto)\n",
    "    numMatch += result\n",
    "\n",
    "print(numMatch)\n",
    "\n",
    "\n",
    "\n",
    "        \n",
    "\n",
    "    "
   ]
  },
  {
   "cell_type": "markdown",
   "metadata": {},
   "source": [
    "### Full Trial Function\n",
    "* Can you give the above procedure a descriptive name so you can easily call it multiple times? "
   ]
  },
  {
   "cell_type": "code",
   "execution_count": 4,
   "metadata": {},
   "outputs": [],
   "source": [
    "# Define a function that runs a FULL trial and returns its result appropriately\n",
    "lotto = generate_lotto()\n",
    "\n",
    "# def trial():\n",
    "#     partial_result = []\n",
    "#     output = 0\n",
    "\n",
    "#     for i in range(5):\n",
    "#         result = partial_trial(lotto)\n",
    "#         if(result != 0): \n",
    "#             partial_result.append(\"No Match\")\n",
    "#         else:\n",
    "#             partial_result.append(\"At Least 1 Match\")\n",
    "#     if(\"At Least 1 Match\" in partial_result):\n",
    "#         output = 1\n",
    "#     return output\n",
    "\n",
    "def trial(lotto):\n",
    "    numMatch:float = 0\n",
    "\n",
    "    for i in range(5):\n",
    "        result = partial_trial(lotto) # Generates 1 lotto ticket and then returns how many \n",
    "        numMatch += result\n",
    "    return numMatch\n",
    "    "
   ]
  },
  {
   "cell_type": "markdown",
   "metadata": {},
   "source": [
    "### Full Simulation\n",
    "* Make sure to look at your previous simulations for the number 10,000"
   ]
  },
  {
   "cell_type": "code",
   "execution_count": 5,
   "metadata": {},
   "outputs": [],
   "source": [
    "# Run your full trial a large number of times\n",
    "# Record your data in an array\n",
    "lotto = generate_lotto()\n",
    "\n",
    "def run_simulation(n=10000):\n",
    "    results = []\n",
    "    for i in range(10000):\n",
    "        results.append(trial(lotto))\n",
    "    return results\n"
   ]
  },
  {
   "cell_type": "markdown",
   "metadata": {},
   "source": [
    "### Calculate the Results"
   ]
  },
  {
   "cell_type": "code",
   "execution_count": 6,
   "metadata": {},
   "outputs": [
    {
     "name": "stdout",
     "output_type": "stream",
     "text": [
      "[ 172  750 1701 2229 2203 1555  860  358  126   31   12    3]\n",
      "1.72%\n"
     ]
    }
   ],
   "source": [
    "# Using the results array, grab appropriate data and perform the necessary calculations\n",
    "sim_results = run_simulation()\n",
    "\n",
    "bincount = np.bincount(sim_results)\n",
    "print(bincount)\n",
    "\n",
    "chance = bincount[0]/100\n",
    "\n",
    "print(f\"{chance}%\")\n",
    "    \n",
    "# print(chance)"
   ]
  },
  {
   "cell_type": "markdown",
   "metadata": {},
   "source": [
    "### Display the Results"
   ]
  },
  {
   "cell_type": "code",
   "execution_count": 11,
   "metadata": {},
   "outputs": [
    {
     "data": {
      "image/png": "[encoded data removed]",
      "text/plain": [
       "<Figure size 432x288 with 1 Axes>"
      ]
     },
     "metadata": {},
     "output_type": "display_data"
    },
    {
     "data": {
      "text/plain": [
       "<Figure size 7200x3600 with 0 Axes>"
      ]
     },
     "metadata": {},
     "output_type": "display_data"
    }
   ],
   "source": [
    "# Graphically display results related directly to your question\n",
    "# source: http://matplotlib.org/examples/pie_and_polar_charts/pie_demo_features.html\n",
    "\n",
    "# Import the library\n",
    "import matplotlib.pyplot as plot\n",
    "%matplotlib inline\n",
    "# Magic to allow the graph to display directly in this notebook\n",
    "\n",
    "# Create an array of labels\n",
    "labels = []\n",
    "for i, _bin in enumerate(bincount):\n",
    "    labels.append(f\"{i} Matching Numbers\")\n",
    "\n",
    "# Explode option\n",
    "    # 'Slices' appear distanced from the center\n",
    "        # Larger numbers = further explosion\n",
    "    # Explode array should be same size as labels and\n",
    "explode = []\n",
    "for _bin in bincount:\n",
    "    explode.append(0)\n",
    "\n",
    "# Use matplotlib module subplots() to get data for various charts\n",
    "    # Returns a tuple in the form (figure,axes)\n",
    "fig1,ax1 = plot.subplots()\n",
    "\n",
    "# Use axes to create a pie chart\n",
    "    # ax1.pie(data array, explode array, labels array, starting angle)\n",
    "ax1.pie(bincount, explode, labels, autopct='%1.1f%%', startangle=90, textprops={\"color\": \"white\"}, colors=[\"red\", \"darkgreen\"])\n",
    "ax1.axis('equal')  # Equal aspect ratio ensures that pie is drawn as a circle.\n",
    "plot.show()"
   ]
  },
  {
   "cell_type": "markdown",
   "metadata": {},
   "source": [
    "### Answer"
   ]
  },
  {
   "cell_type": "markdown",
   "metadata": {},
   "source": [
    "According to the simulation there is a 5.47% chance that when 5 lotto tickets are pulled there is no match so yes, they should be surprised"
   ]
  },
  {
   "cell_type": "markdown",
   "metadata": {},
   "source": [
    "### Additional Question\n",
    "* State one additional question of interest (of your choice) using the data from your simulation"
   ]
  },
  {
   "cell_type": "markdown",
   "metadata": {},
   "source": [
    "### Calculate the Results"
   ]
  },
  {
   "cell_type": "code",
   "execution_count": 8,
   "metadata": {},
   "outputs": [],
   "source": [
    "# Using the results array, grab appropriate data and perform the necessary calculations"
   ]
  },
  {
   "cell_type": "markdown",
   "metadata": {},
   "source": [
    "### Display the Results "
   ]
  },
  {
   "cell_type": "code",
   "execution_count": 9,
   "metadata": {},
   "outputs": [],
   "source": [
    "# Graphically display results related directly to your question"
   ]
  }
 ],
 "metadata": {
  "kernelspec": {
   "display_name": "Python 3",
   "language": "python",
   "name": "python3"
  },
  "language_info": {
   "codemirror_mode": {
    "name": "ipython",
    "version": 3
   },
   "file_extension": ".py",
   "mimetype": "text/x-python",
   "name": "python",
   "nbconvert_exporter": "python",
   "pygments_lexer": "ipython3",
   "version": "3.7.4"
  }
 },
 "nbformat": 4,
 "nbformat_minor": 2
}
