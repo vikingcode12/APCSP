{
 "cells": [
  {
   "cell_type": "markdown",
   "metadata": {},
   "source": [
    "# Modules and Packages\n",
    "* Module\n",
    "    * Python file (.py) that can be reused in other notebooks\n",
    "\n",
    "* Package\n",
    "    * Collection of Modules\n",
    "    * Usually related by a common theme\n",
    "        * Math\n",
    "        * Stats\n",
    "        * Graphing\n",
    "        * Random\n",
    "\n",
    "* Distribution: \n",
    "    * Collection of Packages\n",
    "    * Organizations/companies that creates an IDE for Python\n",
    "        * Ex: Anaconda\n",
    "\n",
    "* Where to download Anaconda: https://www.anaconda.com/download/"
   ]
  },
  {
   "cell_type": "markdown",
   "metadata": {},
   "source": [
    "## Programmer-defined modules"
   ]
  },
  {
   "cell_type": "code",
   "execution_count": 1,
   "metadata": {
    "collapsed": true
   },
   "outputs": [],
   "source": [
    "# let's make our own module: open up Notepad++!\n",
    "# Steps:\n",
    "    # 1. Save blank file as numberFun.py (Python file) in your \"Modules, Packages, and Distributions\" folder\n",
    "    # 2. Write the function isEven(number) in Notepad++ as a class\n",
    "    # 3. Save the file\n",
    "    # 4. Come back to Jupyter Notebook :)\n",
    "\n",
    "\n"
   ]
  },
  {
   "cell_type": "code",
   "execution_count": 2,
   "metadata": {
    "collapsed": true
   },
   "outputs": [],
   "source": [
    "# Use the module by importing the file's name\n",
    "from numberFun import isEven\n",
    "\n",
    "# Using \"dot notation\", call the file name, then the function name, and pass the parameters required\n",
    "\n",
    "even_status = isEven(82)"
   ]
  },
  {
   "cell_type": "markdown",
   "metadata": {},
   "source": [
    "## Python Standard Library\n",
    "* Documentation located here: https://docs.python.org/3/library/index.html"
   ]
  },
  {
   "cell_type": "markdown",
   "metadata": {},
   "source": [
    "### Look at the following modules:  \n",
    "* datetime\n",
    "* math\n",
    "* random\n",
    "* string"
   ]
  },
  {
   "cell_type": "code",
   "execution_count": 3,
   "metadata": {
    "collapsed": true
   },
   "outputs": [
    {
     "name": "stdout",
     "output_type": "stream",
     "text": [
      "2023-02-22 09:19:02.859815\n"
     ]
    }
   ],
   "source": [
    "# datetime (What time is it right now?)\n",
    "from datetime import datetime as dt\n",
    "\n",
    "# First import the datetime module\n",
    "now = dt.now()\n",
    "print(now)\n",
    "\n",
    "# Get the current date and time using \"now\" (a function supplied in the datetime module)\n",
    "\n",
    "\n"
   ]
  },
  {
   "cell_type": "code",
   "execution_count": 4,
   "metadata": {
    "collapsed": true
   },
   "outputs": [
    {
     "name": "stdout",
     "output_type": "stream",
     "text": [
      "93326215443944152681699238856266700490715968264381621468592963895217599993229915608941463976156518286253697920827223758251185210916864000000000000000000000000\n"
     ]
    }
   ],
   "source": [
    "# math (compute 100!)\n",
    "\n",
    "# Import the math module\n",
    "from math import factorial\n",
    "fact_100 = factorial(100)\n",
    "print(fact_100)\n",
    "\n",
    "\n",
    "# Calculate the factorial using \"factorial(num)\" (a function supplied in the math module)\n"
   ]
  },
  {
   "cell_type": "code",
   "execution_count": 5,
   "metadata": {
    "collapsed": true
   },
   "outputs": [
    {
     "name": "stdout",
     "output_type": "stream",
     "text": [
      "50\n"
     ]
    }
   ],
   "source": [
    "# random (Generate a random integer between 1 and 100)\n",
    "from random import randint\n",
    "\n",
    "# Import the random module\n",
    "print(randint(1, 100))\n",
    "\n",
    "# Generate the random integer between min and max using \"randint(min,max)\" (a function supplied in the random module)\n"
   ]
  },
  {
   "cell_type": "code",
   "execution_count": 6,
   "metadata": {
    "collapsed": true
   },
   "outputs": [
    {
     "name": "stdout",
     "output_type": "stream",
     "text": [
      "Hello World!\n",
      "HELLO WORLD!\n",
      "hello world!\n",
      "Hello world!\n"
     ]
    }
   ],
   "source": [
    "# string (Create a String in lowercase and print it in all uppercase)\n",
    "\n",
    "# The string module is built-in, and does not require an import\n",
    "    # Commonly used modules are typically built-in to the Python library\n",
    "\n",
    "msg = \"Hello World!\" # A classic!\n",
    "\n",
    "print(msg)\n",
    "print(msg.upper())\n",
    "print(msg.lower())\n",
    "print(msg.capitalize())\n",
    "\n",
    "    \n"
   ]
  },
  {
   "cell_type": "markdown",
   "metadata": {},
   "source": [
    "## Third-Party-Defined Packages"
   ]
  },
  {
   "cell_type": "markdown",
   "metadata": {},
   "source": [
    "### Look at the following packages:  \n",
    "* numpy\n",
    "* scipy\n",
    "* matplotlib\n",
    "* pyplot"
   ]
  },
  {
   "cell_type": "markdown",
   "metadata": {},
   "source": [
    "### numpy\n",
    "* a package for scientific computing"
   ]
  },
  {
   "cell_type": "code",
   "execution_count": 7,
   "metadata": {
    "collapsed": true
   },
   "outputs": [
    {
     "data": {
      "text/plain": [
       "9"
      ]
     },
     "execution_count": 7,
     "metadata": {},
     "output_type": "execute_result"
    }
   ],
   "source": [
    "# numpy (Generate a random integer between 1 and 100)\n",
    "from numpy import random as rand\n",
    "# Import the package\n",
    "rand.randint(1, 101)\n",
    "\n",
    "# Generate a random number using the \"random.randint(min,max)\" function\n",
    "    # Syntax: package.module.function()\n"
   ]
  },
  {
   "cell_type": "code",
   "execution_count": 8,
   "metadata": {
    "collapsed": true
   },
   "outputs": [
    {
     "name": "stdout",
     "output_type": "stream",
     "text": [
      "[20 35 35 99 81 94 17  4  4 13 38 26 49 16  7 88 24 48  5 91 34 34 15 15\n",
      " 32 13 78 97 75  5 69 71 43 14  8 89  6 61 45 98 58 69 94  6  6 43 42  2\n",
      " 43 38]\n",
      "50\n",
      "<class 'numpy.ndarray'>\n"
     ]
    }
   ],
   "source": [
    "# Generate 50 random numbers\n",
    "# numpy has an additional paramater available for number of times to repeat\n",
    "    # NOTICE: The data type returned is a numpy array!\n",
    "nums_50 = rand.randint(1, 101, 50)\n",
    "\n",
    "print(nums_50)\n",
    "print(len(nums_50))\n",
    "print(type(nums_50))\n"
   ]
  },
  {
   "cell_type": "markdown",
   "metadata": {},
   "source": [
    "### matplotlib\n",
    "* A package for data visualization and plotting\n",
    "  * Data visualization: communicate data and information with a visual representation (charts, graphs, tables, etc)\n",
    "  * Data visualization is very popular right now!\n",
    "    * Award-winning examples of data journalism from 2017: \n",
    "      * http://graphics.wsj.com/hamilton/\n",
    "      * https://www.washingtonpost.com/graphics/world/border-barriers/europe-refugee-crisis-border-control/\n",
    "      * https://fivethirtyeight.com/features/gun-deaths/"
   ]
  },
  {
   "cell_type": "code",
   "execution_count": 9,
   "metadata": {
    "collapsed": true
   },
   "outputs": [
    {
     "data": {
      "text/plain": [
       "Text(0.5, 1.0, 'RandomNums')"
      ]
     },
     "execution_count": 9,
     "metadata": {},
     "output_type": "execute_result"
    },
    {
     "data": {
      "image/png": "[encoded data removed]",
      "text/plain": [
       "<Figure size 432x288 with 1 Axes>"
      ]
     },
     "metadata": {
      "needs_background": "light"
     },
     "output_type": "display_data"
    }
   ],
   "source": [
    "# Create visual graphic of the 50 random numbers produced\n",
    "\n",
    "# Import the pyplot package from the matplotlib library\n",
    "from matplotlib import pyplot as plt\n",
    "\n",
    "\n",
    "# This is \"magic\" to make the graph show directly in the notebook!\n",
    "%matplotlib inline\n",
    "\n",
    "# Create \"bins\" to organize your numbers on the x-axis\n",
    "bins = [0, 10, 20, 30, 40, 50, 60, 70, 80, 90, 100]\n",
    "plt.hist(nums_50, bins)\n",
    "plt.title(\"RandomNums\")\n",
    "\n",
    "# plot.hist(data array, bins/dividers array)"
   ]
  },
  {
   "cell_type": "code",
   "execution_count": 10,
   "metadata": {
    "collapsed": true
   },
   "outputs": [
    {
     "name": "stdout",
     "output_type": "stream",
     "text": [
      "[20 35 35 99 81 94 17  4  4 13 38 26 49 16  7 88 24 48  5 91 34 34 15 15\n",
      " 32 13 78 97 75  5 69 71 43 14  8 89  6 61 45 98 58 69 94  6  6 43 42  2\n",
      " 43 38]\n"
     ]
    },
    {
     "data": {
      "image/png": "[encoded data removed]",
      "text/plain": [
       "<Figure size 432x288 with 1 Axes>"
      ]
     },
     "metadata": {
      "needs_background": "light"
     },
     "output_type": "display_data"
    }
   ],
   "source": [
    "# improve the histogram\n",
    "plt.hist(nums_50, bins, align=\"mid\", color=\"skyblue\", edgecolor=\"darkblue\") # Also accepts hexadecimal values for colors eg. \"#FFCCCC\"\n",
    "# plot.hist(data array, bins/dividers array, alignment, graph color, edge color)\n",
    "import js as console\n",
    "\n",
    "console.log(nums_50)"
   ]
  },
  {
   "cell_type": "markdown",
   "metadata": {},
   "source": [
    "### scipy and pyplot\n",
    "* These are other packages to read about"
   ]
  }
 ],
 "metadata": {
  "kernelspec": {
   "display_name": "Python 3",
   "language": "python",
   "name": "python3"
  },
  "language_info": {
   "codemirror_mode": {
    "name": "ipython",
    "version": 3
   },
   "file_extension": ".py",
   "mimetype": "text/x-python",
   "name": "python",
   "nbconvert_exporter": "python",
   "pygments_lexer": "ipython3",
   "version": "3.7.4"
  },
  "vscode": {
   "interpreter": {
    "hash": "ad2bdc8ecc057115af97d19610ffacc2b4e99fae6737bb82f5d7fb13d2f2c186"
   }
  }
 },
 "nbformat": 4,
 "nbformat_minor": 1
}
