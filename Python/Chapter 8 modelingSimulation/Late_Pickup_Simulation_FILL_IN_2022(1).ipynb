{
 "cells": [
  {
   "cell_type": "markdown",
   "metadata": {},
   "source": [
    "# Simulation Practice - Wait Time\n",
    "* Every morning, there is a 15% chance that your friend picks you up late on the way to school.\n",
    "    \n",
    "## How many school days in a row will typically pass until your friend is late?"
   ]
  },
  {
   "cell_type": "markdown",
   "metadata": {},
   "source": [
    "### Simulating a single day\n",
    "* Generate a random integer between 1 and 100\n",
    " * #'s 1-15 represent your friend showing up late\n",
    "      * 15% chance\n",
    " * #'s 16-100 represent your friend showing up on time\n",
    "      * 85% chance"
   ]
  },
  {
   "cell_type": "code",
   "execution_count": 436,
   "metadata": {},
   "outputs": [
    {
     "name": "stdout",
     "output_type": "stream",
     "text": [
      "On Time\n"
     ]
    }
   ],
   "source": [
    "# import the numpy package\n",
    "import numpy as np\n",
    "\n",
    "# Generate random number between 1-100\n",
    "single_day = np.random.randint(1,101)\n",
    "\n",
    "# Test the percentage ranges\n",
    "if (single_day <= 15):\n",
    "    print(\"Late\")\n",
    "else:\n",
    "    print(\"On Time\")"
   ]
  },
  {
   "cell_type": "markdown",
   "metadata": {},
   "source": [
    "#### Copy and paste code into a function\n",
    "* Return a String of \"Late\" or \"On Time\"\n",
    "* Abstraction!"
   ]
  },
  {
   "cell_type": "code",
   "execution_count": 437,
   "metadata": {},
   "outputs": [],
   "source": [
    "# Create a function to simulate a single day\n",
    "def single_day_trial():\n",
    "    single_day = np.random.randint(1,101)\n",
    "    if (single_day <= 15):\n",
    "        return \"Late\"\n",
    "    else:\n",
    "        return \"On Time\""
   ]
  },
  {
   "cell_type": "markdown",
   "metadata": {},
   "source": [
    "### Simulate a single trial until your friend shows up late\n",
    "* Create a variable that tracks the number of consecutive days on time\n",
    "    * Start at 0!\n",
    "* Utilize a \"while\" loop\n",
    "    * While your single day trial returns \"On Time\", add one to your consecutive days variable\n",
    "* Print the variable tracking the number of consecutive days before your friend shows up late"
   ]
  },
  {
   "cell_type": "code",
   "execution_count": 438,
   "metadata": {},
   "outputs": [
    {
     "name": "stdout",
     "output_type": "stream",
     "text": [
      "4\n"
     ]
    }
   ],
   "source": [
    "#Import the numpy package\n",
    "import numpy as np\n",
    "\n",
    "# Create variables\n",
    "consecutive_days = 0\n",
    "\n",
    "# While loop\n",
    "while (single_day_trial() == \"On Time\"):\n",
    "    consecutive_days += 1\n",
    "    \n",
    "# Print results\n",
    "print(consecutive_days)"
   ]
  },
  {
   "cell_type": "markdown",
   "metadata": {},
   "source": [
    "#### Copy and paste code into a function\n",
    "* Return the number of consecutive days your friend showed up on time\n",
    "* Abstraction!"
   ]
  },
  {
   "cell_type": "code",
   "execution_count": 439,
   "metadata": {},
   "outputs": [],
   "source": [
    "# Create a function that simulates a complete single trial\n",
    "def consecutive_days_trial():\n",
    "    consecutive_days = 0\n",
    "\n",
    "    while (single_day_trial() == \"On Time\"):\n",
    "        consecutive_days = consecutive_days + 1\n",
    "    return consecutive_days"
   ]
  },
  {
   "cell_type": "markdown",
   "metadata": {},
   "source": [
    "### Finding the average number of consecutive days until your friend shows up late\n",
    "* Create an array to hold your results\n",
    "* Create a loop to run 10000 times\n",
    "    * Add result of each consecutive days trial to the array"
   ]
  },
  {
   "cell_type": "code",
   "execution_count": 440,
   "metadata": {},
   "outputs": [],
   "source": [
    "# Create variables\n",
    "consecutive_days_results = []\n",
    "\n",
    "# Create a loop that repeats a large number of trials (5 customers), in this case 10000 times\n",
    "for i in range(10000):\n",
    "    result = consecutive_days_trial()\n",
    "    consecutive_days_results.append(result)\n",
    "    \n",
    "# Print the results\n",
    "# print(consecutive_days_results)"
   ]
  },
  {
   "cell_type": "markdown",
   "metadata": {},
   "source": [
    "### Analyze the results"
   ]
  },
  {
   "cell_type": "markdown",
   "metadata": {},
   "source": [
    "#### Calculate the sum of all trials in the list"
   ]
  },
  {
   "cell_type": "code",
   "execution_count": 441,
   "metadata": {},
   "outputs": [
    {
     "name": "stdout",
     "output_type": "stream",
     "text": [
      "57640\n"
     ]
    }
   ],
   "source": [
    "# Create variables\n",
    "total_trials = len(consecutive_days_results)\n",
    "sum_of_trials = 0\n",
    "\n",
    "# Loop through each entry, adding it to the sum\n",
    "for result in consecutive_days_results:\n",
    "    sum_of_trials += result\n",
    "        \n",
    "# Print the results\n",
    "print(sum_of_trials)"
   ]
  },
  {
   "cell_type": "markdown",
   "metadata": {},
   "source": [
    "#### Calculate the average\n",
    "* Average = sum of trials / total trials"
   ]
  },
  {
   "cell_type": "code",
   "execution_count": 442,
   "metadata": {},
   "outputs": [
    {
     "name": "stdout",
     "output_type": "stream",
     "text": [
      "5.764\n"
     ]
    }
   ],
   "source": [
    "# Calculate the average\n",
    "average = sum_of_trials / total_trials\n",
    "\n",
    "# Print the results\n",
    "print(average)"
   ]
  },
  {
   "cell_type": "markdown",
   "metadata": {},
   "source": [
    "### Graph the results"
   ]
  },
  {
   "cell_type": "code",
   "execution_count": 443,
   "metadata": {},
   "outputs": [
    {
     "name": "stdout",
     "output_type": "stream",
     "text": [
      "[1481 1299 1088  928  761  612  583  430  445  357  264  265  218  182\n",
      "  166  152   99   98   78   79   54   63   45   30   36   27   23   21\n",
      "   25   11    7   10    9    7    5    6    9    1    6    2    2    3\n",
      "    4    1    1    1    1    0    3    0    0    0    0    0    0    0\n",
      "    1    0    0    1]\n"
     ]
    }
   ],
   "source": [
    "# Count the results using bincount()\n",
    "count_consecutive_days = np.bincount(consecutive_days_results)\n",
    "print(count_consecutive_days)"
   ]
  },
  {
   "cell_type": "markdown",
   "metadata": {},
   "source": [
    "## Histogram"
   ]
  },
  {
   "cell_type": "code",
   "execution_count": 444,
   "metadata": {},
   "outputs": [
    {
     "name": "stdout",
     "output_type": "stream",
     "text": [
      "[0, 1, 2, 3, 4, 5, 6, 7, 8, 9, 10, 11, 12, 13, 14, 15, 16, 17, 18, 19, 20, 21, 22, 23, 24, 25, 26, 27, 28, 29, 30, 31, 32, 33, 34, 35, 36, 37, 38, 39, 40, 41, 42, 43, 44, 45, 46, 47, 48, 49, 50, 51, 52, 53, 54, 55, 56, 57, 58, 59]\n"
     ]
    },
    {
     "data": {
      "image/png": "[encoded data removed]",
      "text/plain": [
       "<Figure size 432x288 with 1 Axes>"
      ]
     },
     "metadata": {
      "needs_background": "light"
     },
     "output_type": "display_data"
    }
   ],
   "source": [
    "import matplotlib.pyplot as plt #importing a module for plotting\n",
    "import math\n",
    "%matplotlib inline \n",
    "# this allows us to show graphs in a notebook\n",
    "\n",
    "# Create the bins array\n",
    "bins = []\n",
    "length = len(count_consecutive_days)\n",
    "for i in range(length):\n",
    "    bins.append(i)\n",
    "print(bins)\n",
    "\n",
    "# plt.hist(array, dividers/bins, alignment, graph color, border color)\n",
    "plt.hist(consecutive_days_results, bins, align='mid', color=\"blue\", edgecolor='black', rwidth=.8)\n",
    "\n",
    "# Labels\n",
    "plt.title(\"Highest Streak of Not Being Late\")\n",
    "plt.ylabel(\"Amount of Times The Streak Appeared\")\n",
    "plt.xlabel(\"Streak\")\n",
    "\n",
    "plt.show()"
   ]
  },
  {
   "cell_type": "markdown",
   "metadata": {},
   "source": [
    "### \"Grouped\" Histogram"
   ]
  },
  {
   "cell_type": "code",
   "execution_count": 445,
   "metadata": {},
   "outputs": [
    {
     "name": "stdout",
     "output_type": "stream",
     "text": [
      "[0, 5, 10, 15, 20, 25, 30, 35, 40, 45, 50, 55]\n"
     ]
    },
    {
     "data": {
      "image/png": "[encoded data removed]",
      "text/plain": [
       "<Figure size 432x288 with 1 Axes>"
      ]
     },
     "metadata": {
      "needs_background": "light"
     },
     "output_type": "display_data"
    }
   ],
   "source": [
    "# Import matplotlib\n",
    "import matplotlib.pyplot as plt\n",
    "%matplotlib inline\n",
    "\n",
    "# Create bins array\n",
    "bins = []\n",
    "for i in range(12):\n",
    "    bin = i*5\n",
    "    bins.append(bin)\n",
    "\n",
    "print(bins)\n",
    "\n",
    "# Create title and lables\n",
    "plt.title(\"Highest Streak of Not Being Late\")\n",
    "plt.ylabel(\"Amount of Times The Streak Appeared\")\n",
    "plt.xlabel(\"Streak (Grouped By 5's)\")\n",
    "\n",
    "\n",
    "# plt.hist(array, dividers/bins, alignment, graph color, border color)\n",
    "plt.hist(consecutive_days_results, bins, align=\"mid\", color=\"lightgreen\", edgecolor=\"black\", rwidth=.9)\n",
    "\n",
    "# Show\n",
    "plt.show()"
   ]
  },
  {
   "attachments": {},
   "cell_type": "markdown",
   "metadata": {},
   "source": [
    "Based on the simulation we can predict that most likely 5 days will pass before your friend is late."
   ]
  }
 ],
 "metadata": {
  "kernelspec": {
   "display_name": "Python 3",
   "language": "python",
   "name": "python3"
  },
  "language_info": {
   "codemirror_mode": {
    "name": "ipython",
    "version": 3
   },
   "file_extension": ".py",
   "mimetype": "text/x-python",
   "name": "python",
   "nbconvert_exporter": "python",
   "pygments_lexer": "ipython3",
   "version": "3.7.4"
  },
  "vscode": {
   "interpreter": {
    "hash": "ad2bdc8ecc057115af97d19610ffacc2b4e99fae6737bb82f5d7fb13d2f2c186"
   }
  }
 },
 "nbformat": 4,
 "nbformat_minor": 2
}
