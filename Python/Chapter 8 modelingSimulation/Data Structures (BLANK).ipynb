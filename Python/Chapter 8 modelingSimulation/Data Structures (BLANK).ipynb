{
 "cells": [
  {
   "attachments": {},
   "cell_type": "markdown",
   "metadata": {},
   "source": [
    "# Data Structures\n",
    "* data structures are different ways of storing a data set\n",
    "  * we can pick a different data structure depending on\n",
    "    * How we plan to Access the data\n",
    "    * How we plan on using the data\n",
    "    * Size of the dataset\n",
    "\n",
    "\n",
    "* three data structures in this notebook:\n",
    "  * Lists\n",
    "  * Tuples\n",
    "  * Dictionaries"
   ]
  },
  {
   "cell_type": "markdown",
   "metadata": {},
   "source": [
    "## Lists (ordered collection) [ ]"
   ]
  },
  {
   "cell_type": "code",
   "execution_count": 162,
   "metadata": {},
   "outputs": [
    {
     "name": "stdout",
     "output_type": "stream",
     "text": [
      "['FFFFFF', 'FF0000', '00FF00', '00000FF', '000000']\n"
     ]
    }
   ],
   "source": [
    "# Create a list of colors\n",
    "# Similar to arrays from JavaScript\n",
    "\n",
    "colors = [\"FFFFFF\", \"FF0000\", \"00FF00\", \"00000FF\", \"000000\"]\n",
    "print(colors)"
   ]
  },
  {
   "cell_type": "code",
   "execution_count": 163,
   "metadata": {},
   "outputs": [
    {
     "name": "stdout",
     "output_type": "stream",
     "text": [
      "['FFFFFF', 'FF0000', '00FF00', '000000', '0000FF']\n"
     ]
    }
   ],
   "source": [
    "# Add a single element to the list  \n",
    "# (using the 'append' method for the 'list' class)\n",
    "colors = [\"FFFFFF\", \"FF0000\", \"00FF00\", \"000000\"]\n",
    "colors.append(\"0000FF\")\n",
    "print(colors)\n"
   ]
  },
  {
   "cell_type": "code",
   "execution_count": 164,
   "metadata": {},
   "outputs": [
    {
     "name": "stdout",
     "output_type": "stream",
     "text": [
      "['FFFFFF', '00000FF', '000000', 'FF0000', '00FF00', 'CCCCCC']\n"
     ]
    }
   ],
   "source": [
    "# Add multiple elements to the list\n",
    "# (using the 'extend' method for lists):\n",
    "colors = [\"FFFFFF\", \"00000FF\", \"000000\"]\n",
    "colors.extend([\"FF0000\", \"00FF00\", \"CCCCCC\"])\n",
    "print(colors)\n"
   ]
  },
  {
   "cell_type": "code",
   "execution_count": 165,
   "metadata": {},
   "outputs": [
    {
     "name": "stdout",
     "output_type": "stream",
     "text": [
      "3\n"
     ]
    }
   ],
   "source": [
    "# Get the length of the list:\n",
    "colors = [\"FFFFFF\", \"00000FF\", \"000000\"]\n",
    "print(len(colors))\n"
   ]
  },
  {
   "cell_type": "code",
   "execution_count": 166,
   "metadata": {},
   "outputs": [
    {
     "name": "stdout",
     "output_type": "stream",
     "text": [
      "White 5 Socks\n",
      "Blue 8 Socks\n",
      "Black 5 Socks\n",
      "Green 3 Socks\n",
      "Red 9 Socks\n",
      "Purple 5 Socks\n",
      "Orange 6 Socks\n",
      "Yellow 5 Socks\n",
      "Pink 9 Socks\n",
      "Brown 10 Socks\n"
     ]
    }
   ],
   "source": [
    "from random import randint\n",
    "\n",
    "# loop over the list:\n",
    "sock_colors = [\"White\", \"Blue\", \"Black\", \"Green\", \"Red\", \"Purple\", \"Orange\", \"Yellow\", \"Pink\", \"Brown\"]\n",
    " \n",
    "for color in sock_colors:\n",
    "    sock_quantity = randint(0, 10)\n",
    "    print(color + \" \" + str(sock_quantity) + \" Socks\")\n"
   ]
  },
  {
   "cell_type": "markdown",
   "metadata": {},
   "source": [
    "## Searching\n",
    "* Sytax\n",
    "    * \"item\" in \"list\"\n",
    "    * Search for this \"item\" in this \"list\"\n",
    "* Examines list one-by-one (linear)\n",
    "* Typically slow for long lists"
   ]
  },
  {
   "cell_type": "code",
   "execution_count": 167,
   "metadata": {},
   "outputs": [
    {
     "name": "stdout",
     "output_type": "stream",
     "text": [
      "True False\n"
     ]
    }
   ],
   "source": [
    "has_Orange = \"Orange\" in sock_colors\n",
    "has_Magenta = \"Magenta\" in sock_colors\n",
    "print(has_Orange, has_Magenta)\n"
   ]
  },
  {
   "cell_type": "markdown",
   "metadata": {},
   "source": [
    "### Slicing Lists\n",
    "  * Syntax for slicing a list named \"myList\" - myList[start, end, skip]\n",
    "    * default value for start is 0 (inclusive)\n",
    "    * default value for end is myList.length (exclusive)\n",
    "    * skip is how many elements to jump by\n",
    "      * print(myList[::2]) would print every other value from beginning to end\n",
    "      * print(myList[::-1]) would print all values backwards from end to beginning"
   ]
  },
  {
   "cell_type": "code",
   "execution_count": 168,
   "metadata": {},
   "outputs": [
    {
     "name": "stdout",
     "output_type": "stream",
     "text": [
      "['White', 'Blue', 'Black', 'Green', 'Red', 'Purple', 'Orange', 'Yellow', 'Pink', 'Brown']\n"
     ]
    }
   ],
   "source": [
    "print(sock_colors)"
   ]
  },
  {
   "cell_type": "code",
   "execution_count": 169,
   "metadata": {},
   "outputs": [
    {
     "name": "stdout",
     "output_type": "stream",
     "text": [
      "Pink\n"
     ]
    }
   ],
   "source": [
    "# Print the element indexed at -2\n",
    "\n",
    "print(sock_colors[-2])\n"
   ]
  },
  {
   "cell_type": "code",
   "execution_count": 170,
   "metadata": {},
   "outputs": [
    {
     "name": "stdout",
     "output_type": "stream",
     "text": [
      "['White', 'Blue']\n"
     ]
    }
   ],
   "source": [
    "# Print the elements from index 0 (inclusive) to the index 2 (exclusive)\n",
    "print(sock_colors[0:2])"
   ]
  },
  {
   "cell_type": "code",
   "execution_count": 171,
   "metadata": {},
   "outputs": [
    {
     "name": "stdout",
     "output_type": "stream",
     "text": [
      "['Green', 'Red', 'Purple', 'Orange', 'Yellow', 'Pink', 'Brown']\n"
     ]
    }
   ],
   "source": [
    "# Print the elements from index 3 (inclusive) to the end of the list\n",
    "print(sock_colors[3:])\n"
   ]
  },
  {
   "cell_type": "code",
   "execution_count": 172,
   "metadata": {},
   "outputs": [
    {
     "name": "stdout",
     "output_type": "stream",
     "text": [
      "['Blue', 'Black', 'Green']\n"
     ]
    }
   ],
   "source": [
    "# Print the elements from index 1 (inclusive) to index 4 (exclusive)\n",
    "\n",
    "print(sock_colors[1:4])\n",
    "\n"
   ]
  },
  {
   "cell_type": "code",
   "execution_count": 173,
   "metadata": {},
   "outputs": [
    {
     "name": "stdout",
     "output_type": "stream",
     "text": [
      "['Brown', 'Pink', 'Yellow', 'Orange', 'Purple', 'Red', 'Green', 'Black', 'Blue', 'White']\n"
     ]
    }
   ],
   "source": [
    "# Print the list backwards\n",
    "\n",
    "print(sock_colors[::-1])\n"
   ]
  },
  {
   "cell_type": "code",
   "execution_count": 174,
   "metadata": {},
   "outputs": [
    {
     "data": {
      "text/plain": [
       "list"
      ]
     },
     "execution_count": 174,
     "metadata": {},
     "output_type": "execute_result"
    }
   ],
   "source": [
    "# Check the data type\n",
    "type(sock_colors)"
   ]
  },
  {
   "cell_type": "code",
   "execution_count": 175,
   "metadata": {},
   "outputs": [
    {
     "name": "stdout",
     "output_type": "stream",
     "text": [
      "dark and stormy night\n"
     ]
    }
   ],
   "source": [
    "# Slicing also works on Strings\n",
    "sentence = \"It was a dark and stormy night.\"\n",
    "\n",
    "# Slice out \"dark and stormy night\"\n",
    "print(sentence[9:-1])\n",
    "\n"
   ]
  },
  {
   "cell_type": "code",
   "execution_count": 176,
   "metadata": {},
   "outputs": [
    {
     "name": "stdout",
     "output_type": "stream",
     "text": [
      "ELIZABETH\n"
     ]
    }
   ],
   "source": [
    "# Reveal the secret message in an Acrostic \n",
    "    # Hint: Look at the first letter of each line\n",
    "\n",
    "# An Acrostic by Edgar Allan Poe\n",
    "acrostic = \"\"\"Elizabeth it is in vain you say\n",
    "Love not — thou sayest it in so sweet a way:\n",
    "In vain those words from thee or L.E.L.\n",
    "Zantippe’s talents had enforced so well:\n",
    "Ah! if that language from thy heart arise,\n",
    "Breath it less gently forth — and veil thine eyes.\n",
    "Endymion, recollect, when Luna tried\n",
    "To cure his love — was cured of all beside —\n",
    "His follie — pride — and passion — for he died.\"\"\"\n",
    "\n",
    "secret_message = \"\"                # acrostic = [\"Elizabeth it is in vain you say\",\n",
    "acrostic = acrostic.split('\\n')    #             \"Love not — thou sayest it in so sweet a way:\",\n",
    "for line in acrostic:              #             \"In vain those words from thee or L.E.L.\",\n",
    "    secret_message += line[0]      #             \"Zantippe’s talents had enforced so well:\",\n",
    "                                   #              ... ] \n",
    "print(secret_message)"
   ]
  },
  {
   "cell_type": "markdown",
   "metadata": {},
   "source": [
    "## Tuples( )\n",
    "* Use ( ) or nothing, but stay consistent\n",
    "    * (a,b)   <=>   a,b\n",
    "* Similar to lists, but cannot modify them"
   ]
  },
  {
   "cell_type": "code",
   "execution_count": 177,
   "metadata": {},
   "outputs": [
    {
     "name": "stdout",
     "output_type": "stream",
     "text": [
      "(1, 2)\n"
     ]
    }
   ],
   "source": [
    "\n",
    "# Use tuples for storing/assigning multiple values in the same line\n",
    "print((1, 2)) \n"
   ]
  },
  {
   "cell_type": "code",
   "execution_count": 178,
   "metadata": {},
   "outputs": [
    {
     "name": "stdout",
     "output_type": "stream",
     "text": [
      "2 1\n",
      "1 2\n"
     ]
    }
   ],
   "source": [
    "# How to swap elements in Python\n",
    "# Start with variables x and y\n",
    "x = 2\n",
    "y = 1\n",
    "\n",
    "print(x, y)\n",
    "\n",
    "x,y = y,x\n",
    "\n",
    "print(x, y)\n"
   ]
  },
  {
   "cell_type": "code",
   "execution_count": 179,
   "metadata": {},
   "outputs": [
    {
     "name": "stdout",
     "output_type": "stream",
     "text": [
      "1 2\n",
      "2 1\n"
     ]
    }
   ],
   "source": [
    "# Swap using tuples\n",
    "(x, y) = (1, 2)\n",
    "\n",
    "print(x, y)\n",
    "\n",
    "(x, y) = (2, 1)\n",
    "\n",
    "# In other languages, this would take 3 lines of code and a temporary variable:\n",
    "    # temp = x\n",
    "    # x = y\n",
    "    # y = temp\n",
    "\n",
    "print(x, y)"
   ]
  },
  {
   "cell_type": "code",
   "execution_count": 180,
   "metadata": {},
   "outputs": [
    {
     "name": "stdout",
     "output_type": "stream",
     "text": [
      "(2, 7)\n"
     ]
    },
    {
     "data": {
      "text/plain": [
       "(9, 14)"
      ]
     },
     "execution_count": 180,
     "metadata": {},
     "output_type": "execute_result"
    }
   ],
   "source": [
    "from random import randint\n",
    "\n",
    "# Define a function that takes two numbers as parameters, and returns the tuple (sum,product) \n",
    "\n",
    "def tuple_sum_product(a,b):\n",
    "    return (a+b,a*b)\n",
    "\n",
    "a = randint(1,10)\n",
    "b = randint(1,10)\n",
    "\n",
    "print((a,b))\n",
    "tuple_sum_product(a, b)"
   ]
  },
  {
   "cell_type": "code",
   "execution_count": 181,
   "metadata": {},
   "outputs": [
    {
     "data": {
      "text/plain": [
       "int"
      ]
     },
     "execution_count": 181,
     "metadata": {},
     "output_type": "execute_result"
    }
   ],
   "source": [
    "# If you don't know what type of data you are working with, just check!\n",
    "\n",
    "type(a)\n"
   ]
  },
  {
   "cell_type": "code",
   "execution_count": 182,
   "metadata": {},
   "outputs": [
    {
     "data": {
      "text/plain": [
       "(8, 10)"
      ]
     },
     "execution_count": 182,
     "metadata": {},
     "output_type": "execute_result"
    }
   ],
   "source": [
    "# Assigning tuples with return values\n",
    "def create_tuple(a, b):\n",
    "    return (a, b)\n",
    "\n",
    "\n",
    "a = randint(1,10)\n",
    "b = randint(1,10)\n",
    "create_tuple(a, b)\n",
    "\n"
   ]
  },
  {
   "cell_type": "code",
   "execution_count": 183,
   "metadata": {},
   "outputs": [
    {
     "data": {
      "text/plain": [
       "int"
      ]
     },
     "execution_count": 183,
     "metadata": {},
     "output_type": "execute_result"
    }
   ],
   "source": [
    "# Check what type of data the variables are\n",
    "a = 1\n",
    "\n",
    "type(a)\n"
   ]
  },
  {
   "cell_type": "markdown",
   "metadata": {},
   "source": [
    "## Dictionaries \n",
    "* Use { } \n",
    "* Associate \"keys\" with \"values\"\n",
    "    * key:value\n",
    "* Don't take the word dictionary too literally "
   ]
  },
  {
   "cell_type": "markdown",
   "metadata": {},
   "source": [
    "#### Keys are immutable (unchangable) and must be unique (no duplicates)"
   ]
  },
  {
   "cell_type": "code",
   "execution_count": 184,
   "metadata": {},
   "outputs": [],
   "source": [
    "# Dictionary keys: Student ID numbers\n",
    "# Dictionary values: Student names\n",
    "    # Are the keys unique in this example?\n",
    "\n",
    "dict_students = {\n",
    "    30780: \"Jacob Ramen\",\n",
    "    30781: \"Jason Karmen\",\n",
    "    30782: \"Ryan Goldfarb\",\n",
    "\n",
    "}\n"
   ]
  },
  {
   "cell_type": "code",
   "execution_count": 185,
   "metadata": {},
   "outputs": [
    {
     "name": "stdout",
     "output_type": "stream",
     "text": [
      "Ryan Goldfarb\n"
     ]
    }
   ],
   "source": [
    "# Dictionary lookup is very fast\n",
    "    # Use the \"key\" to retrieve its associated \"value\"\n",
    "print(dict_students.get(30782))"
   ]
  },
  {
   "cell_type": "code",
   "execution_count": 186,
   "metadata": {},
   "outputs": [],
   "source": [
    "# Assign new value pairs\n"
   ]
  },
  {
   "cell_type": "code",
   "execution_count": 187,
   "metadata": {},
   "outputs": [],
   "source": [
    "# Check the length of the dictionary\n"
   ]
  },
  {
   "cell_type": "code",
   "execution_count": 188,
   "metadata": {},
   "outputs": [],
   "source": [
    "# Search through a dictionary similar to lists\n",
    "    # Typically slow for a list\n",
    "    # Typically fast for a dictionary!\n"
   ]
  },
  {
   "cell_type": "code",
   "execution_count": 189,
   "metadata": {},
   "outputs": [],
   "source": [
    "# Try a key that is not in our dictionary:\n"
   ]
  },
  {
   "cell_type": "markdown",
   "metadata": {},
   "source": [
    "## Task 1\n",
    "  * use a for loop to create a list of 31 random numbers between -5 and 35\n",
    "    * Example: [-4, 31, 0, 1, 8, 19, 8,..., 22]\n",
    "  "
   ]
  },
  {
   "cell_type": "markdown",
   "metadata": {},
   "source": [
    "## Task 2\n",
    "  * 1) Check if 32 degrees appears in your list of temperatures\n",
    "  * 2) Pick a temperature that does appear in your list. Write some code that shows that this temperature appears in your list of temperatures\n",
    "  * 3) Verify that the length of your list is 31\n",
    "  "
   ]
  },
  {
   "cell_type": "markdown",
   "metadata": {},
   "source": [
    "## Task 3\n",
    "  * use print and your list to write a for loop in the following form:\n",
    "    * The temperature on January 1 was -4 degrees F. \n",
    "    * The temperature on January 2 was 31 degrees F. \n",
    "    * The temperature on January 3 was 0 degrees F. \n",
    "    * ...\n",
    "    * The temperature on January 31 was 22 degrees F.\n",
    "  "
   ]
  },
  {
   "cell_type": "markdown",
   "metadata": {},
   "source": [
    "## Challenge\n",
    "  * use lists and math operators to write a function hex_converter(input) that takes a decimal number as input and returns its hexadecimal equivalent as output \n",
    "    * show the output for hex_converter(255), hex_converter(10), hex_converter(851) to show that your algorithm works\n",
    "  "
   ]
  },
  {
   "cell_type": "code",
   "execution_count": null,
   "metadata": {
    "collapsed": true
   },
   "outputs": [],
   "source": []
  }
 ],
 "metadata": {
  "kernelspec": {
   "display_name": "Python 3",
   "language": "python",
   "name": "python3"
  },
  "language_info": {
   "codemirror_mode": {
    "name": "ipython",
    "version": 3
   },
   "file_extension": ".py",
   "mimetype": "text/x-python",
   "name": "python",
   "nbconvert_exporter": "python",
   "pygments_lexer": "ipython3",
   "version": "3.11.1"
  },
  "vscode": {
   "interpreter": {
    "hash": "cb6389702882d355e6b3e49a84f17793b39b3e3d013cdaec4cbf20bc9255a56e"
   }
  }
 },
 "nbformat": 4,
 "nbformat_minor": 1
}
