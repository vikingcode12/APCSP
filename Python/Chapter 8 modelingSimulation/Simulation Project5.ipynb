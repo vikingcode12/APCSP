{
 "cells": [
  {
   "attachments": {},
   "cell_type": "markdown",
   "metadata": {},
   "source": [
    "# Simulation Project\n",
    "* Name: Jacob Ramah\n",
    "* Class period: 3rd Period\n",
    "* Problem number: 5\n",
    "* Problem text: A man has ten ties and chooses a tie at random to wear to work each day. His wife complains that he often\n",
    "wears the same tie two or more times in a 5-day week. Design and conduct a simulation to estimate the\n",
    "probability that he wears the same tie more than once in a 5-day work week. Does his wife have a legitimate\n",
    "complaint?"
   ]
  },
  {
   "cell_type": "markdown",
   "metadata": {},
   "source": [
    "### Partial Trial Setup\n",
    "* Example: 1 person walks into the ice cream parlor to order either vanilla, chocolate or strawberry ice cream"
   ]
  },
  {
   "cell_type": "code",
   "execution_count": 3,
   "metadata": {
    "collapsed": true
   },
   "outputs": [
    {
     "name": "stdout",
     "output_type": "stream",
     "text": [
      "9\n"
     ]
    }
   ],
   "source": [
    "# Write code to run a partial trial\n",
    "# Refer to your previous simulations as a resource!\n",
    "import numpy as np\n",
    "ties = []\n",
    "\n",
    "for i in range(10):\n",
    "    ties.append(i + 1)\n",
    "\n",
    "randomTie = np.random.choice(ties)\n",
    "\n",
    "print(randomTie)"
   ]
  },
  {
   "cell_type": "markdown",
   "metadata": {},
   "source": [
    "### Partial Trial Function\n",
    "* Can you give the above procedure a descriptive name so you can easily call it multiple times? "
   ]
  },
  {
   "cell_type": "code",
   "execution_count": 4,
   "metadata": {
    "collapsed": true
   },
   "outputs": [
    {
     "data": {
      "text/plain": [
       "10"
      ]
     },
     "execution_count": 4,
     "metadata": {},
     "output_type": "execute_result"
    }
   ],
   "source": [
    "# Define a function that runs a partial trial and returns its result appropriately\n",
    "def choose_1_tie(ties=ties):\n",
    "    randomTie = np.random.choice(ties)\n",
    "    return randomTie\n",
    "choose_1_tie()"
   ]
  },
  {
   "cell_type": "markdown",
   "metadata": {},
   "source": [
    "### Full Trial Setup\n",
    "* Example: 5 people walk into the ice cream parlor together: do 2 or more order chocolate? "
   ]
  },
  {
   "cell_type": "code",
   "execution_count": 5,
   "metadata": {
    "collapsed": true
   },
   "outputs": [
    {
     "name": "stdout",
     "output_type": "stream",
     "text": [
      "False\n"
     ]
    }
   ],
   "source": [
    "# Write code to run a FULL trial\n",
    "# Refer to your previous simulations as a resource!\n",
    "weekList = []\n",
    "for i in range(5):\n",
    "    weekList.append(choose_1_tie())\n",
    "\n",
    "weekSet = set(weekList)\n",
    "if len(weekSet) == len(weekList):\n",
    "    print(True)\n",
    "else:\n",
    "    print(False)"
   ]
  },
  {
   "cell_type": "markdown",
   "metadata": {},
   "source": [
    "### Full Trial Function\n",
    "* Can you give the above procedure a descriptive name so you can easily call it multiple times? "
   ]
  },
  {
   "cell_type": "code",
   "execution_count": 6,
   "metadata": {
    "collapsed": true
   },
   "outputs": [],
   "source": [
    "# Define a function that runs a FULL trial and returns its result appropriately\n",
    "# True (1) means he wore a tie more than once False (0) means he didn't wear a tie more than once\n",
    "def week_of_choosing_ties(ties=ties): \n",
    "    weekList = []\n",
    "    duplicates = 1\n",
    "    for i in range(5):\n",
    "        weekList.append(choose_1_tie())\n",
    "\n",
    "    weekSet = set(weekList)\n",
    "    if len(weekSet) == len(weekList):\n",
    "        duplicates = 0\n",
    "    return duplicates, weekList"
   ]
  },
  {
   "cell_type": "markdown",
   "metadata": {},
   "source": [
    "### Full Simulation\n",
    "* Make sure to look at your previous simulations for the number 10,000"
   ]
  },
  {
   "cell_type": "code",
   "execution_count": 36,
   "metadata": {
    "collapsed": true
   },
   "outputs": [],
   "source": [
    "# Run your full trial a large number of times\n",
    "# Record your data in an array\n",
    "results = []\n",
    "tieResults = []\n",
    "for i in range(10_000):\n",
    "    results.append(week_of_choosing_ties()[0])\n",
    "    tieResults.append(week_of_choosing_ties()[1])\n",
    "\n"
   ]
  },
  {
   "cell_type": "markdown",
   "metadata": {},
   "source": [
    "### Calculate the Results"
   ]
  },
  {
   "cell_type": "code",
   "execution_count": 8,
   "metadata": {
    "collapsed": true
   },
   "outputs": [
    {
     "name": "stdout",
     "output_type": "stream",
     "text": [
      "[30497 69503]\n"
     ]
    }
   ],
   "source": [
    "# Using the results array, grab appropriate data and perform the necessary calculations\n",
    "bincount = np.bincount(results)\n",
    "print(bincount)\n"
   ]
  },
  {
   "cell_type": "markdown",
   "metadata": {},
   "source": [
    "### Display the Results"
   ]
  },
  {
   "cell_type": "code",
   "execution_count": 9,
   "metadata": {
    "collapsed": true
   },
   "outputs": [
    {
     "data": {
      "image/png": "[encoded data removed]",
      "text/plain": [
       "<Figure size 432x288 with 1 Axes>"
      ]
     },
     "metadata": {},
     "output_type": "display_data"
    }
   ],
   "source": [
    "# Graphically display results related directly to your question\n",
    "\n",
    "# Import the library\n",
    "import matplotlib.pyplot as plot\n",
    "%matplotlib inline\n",
    "# Magic to allow the graph to display directly in this notebook\n",
    "\n",
    "# Create an array of labels\n",
    "labels = [\"No Duplicate Ties\", \"Duplicate Ties\"]\n",
    "\n",
    "# Explode option\n",
    "    # 'Slices' appear distanced from the center\n",
    "        # Larger numbers = further explosion\n",
    "    # Explode array should be same size as labels and\n",
    "explode = []\n",
    "for _bin in bincount:\n",
    "    explode.append(0)\n",
    "\n",
    "# Use matplotlib module subplots() to get data for various charts\n",
    "    # Returns a tuple in the form (figure,axes)\n",
    "fig1,ax1 = plot.subplots()\n",
    "\n",
    "# Use axes to create a pie chart\n",
    "    # ax1.pie(data array, explode array, labels array, starting angle)\n",
    "ax1.pie(bincount, explode, labels, autopct='%1.1f%%', startangle=90, textprops={\"color\": \"black\"}, colors=[\"#47B39C\", \"#E0B154\"])\n",
    "ax1.axis('equal')  # Equal aspect ratio ensures that pie is drawn as a circle.\n",
    "plot.show()"
   ]
  },
  {
   "cell_type": "markdown",
   "metadata": {},
   "source": [
    "### Answer"
   ]
  },
  {
   "attachments": {},
   "cell_type": "markdown",
   "metadata": {},
   "source": [
    "According to the simulation there is a 69.5% chance that her husband wil wear a duplicate tie. So yes the wife is right."
   ]
  },
  {
   "attachments": {},
   "cell_type": "markdown",
   "metadata": {},
   "source": [
    "### Additional Question\n",
    "* What is the chance the first tie will be used in a week"
   ]
  },
  {
   "cell_type": "markdown",
   "metadata": {},
   "source": [
    "### Calculate the Results"
   ]
  },
  {
   "cell_type": "code",
   "execution_count": 37,
   "metadata": {
    "collapsed": true
   },
   "outputs": [
    {
     "name": "stdout",
     "output_type": "stream",
     "text": [
      "10000\n",
      "[4136, 5864]\n"
     ]
    }
   ],
   "source": [
    "# Using the results array, grab appropriate data and perform the necessary calculations\n",
    "tieBins = []\n",
    "\n",
    "for tie in tieResults:\n",
    "    tieBins.append(np.bincount(tie))\n",
    "\n",
    "firsTieUseNum = 0\n",
    "\n",
    "for _bin in tieBins:\n",
    "    if(_bin[1] > 0):\n",
    "        firsTieUseNum += 1\n",
    "\n",
    "firstTieBin = [firsTieUseNum, 10_000-firsTieUseNum]\n",
    "avgTie1Usg = firsTieUseNum/(10_000)\n",
    "print(firstTieBin)\n"
   ]
  },
  {
   "cell_type": "markdown",
   "metadata": {},
   "source": [
    "### Display the Results "
   ]
  },
  {
   "cell_type": "code",
   "execution_count": 39,
   "metadata": {
    "collapsed": true
   },
   "outputs": [
    {
     "data": {
      "image/png": "[encoded data removed]",
      "text/plain": [
       "<Figure size 432x288 with 1 Axes>"
      ]
     },
     "metadata": {},
     "output_type": "display_data"
    }
   ],
   "source": [
    "# Graphically display results related directly to your question\n",
    "# Import the library\n",
    "import matplotlib.pyplot as plot\n",
    "# Magic to allow the graph to display directly in this notebook\n",
    "%matplotlib inline\n",
    "\n",
    "# Create an array of labels\n",
    "labels = [\"Tie 1 Was Used\", \"Tie 1 Was Not Used\"]\n",
    "\n",
    "# Explode option\n",
    "    # 'Slices' appear distanced from the center\n",
    "        # Larger numbers = further explosion\n",
    "    # Explode array should be same size as labels and\n",
    "explode = []\n",
    "for _bin in firstTieBin:\n",
    "    explode.append(0)\n",
    "\n",
    "# Use matplotlib module subplots() to get data for various charts\n",
    "    # Returns a tuple in the form (figure,axes)\n",
    "fig1,ax1 = plot.subplots()\n",
    "\n",
    "# Use axes to create a pie chart\n",
    "    # ax1.pie(data array, explode array, labels array, starting angle)\n",
    "ax1.pie(firstTieBin, explode, labels, autopct='%1.1f%%', startangle=90, textprops={\"color\": \"black\"}, colors=[\"#47B39C\", \"#E0B154\"])\n",
    "ax1.axis('equal')  # Equal aspect ratio ensures that pie is drawn as a circle.\n",
    "plot.show()"
   ]
  },
  {
   "attachments": {},
   "cell_type": "markdown",
   "metadata": {},
   "source": [
    "According to the simulation the chance Tie 1 will be used is 41.4% in the 5 day work week."
   ]
  }
 ],
 "metadata": {
  "kernelspec": {
   "display_name": "Python 3",
   "language": "python",
   "name": "python3"
  },
  "language_info": {
   "codemirror_mode": {
    "name": "ipython",
    "version": 3
   },
   "file_extension": ".py",
   "mimetype": "text/x-python",
   "name": "python",
   "nbconvert_exporter": "python",
   "pygments_lexer": "ipython3",
   "version": "3.7.4"
  }
 },
 "nbformat": 4,
 "nbformat_minor": 2
}
