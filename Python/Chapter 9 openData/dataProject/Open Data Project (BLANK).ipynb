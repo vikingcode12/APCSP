{
 "cells": [
  {
   "attachments": {},
   "cell_type": "markdown",
   "metadata": {},
   "source": [
    "# Open Data Project: Project Pokemon\n",
    "\n",
    "Name: Jacob Ramah\n",
    "\n",
    "Date: 4/11/23\n",
    "\n",
    "Source for Data Set: Kaggle\n",
    "\n",
    "URL for Data Set: https://www.kaggle.com/datasets/rounakbanik/pokemon\n",
    "\n",
    "Description of Data Set:\n",
    " \n",
    "This is a data set containing infromation on each pokemon from Kanto to Alola (gen 1-7). This contains the pokedex number, name, classification, generation, legendary status, type1, type2, abilities, base stat total, hp stat, attack stat, defense stat, special attack stat, special defense stat, speed, various weaknesses and strengths, catch rate, total experience for level 100, base happiness, base egg steps, height, weight, and percent male for each pokemon.\n",
    "\n",
    "* Please give a one-paragraph explanation of what this data set is and what it contains\n",
    "* Your data set must be notably different than our in-class example (no salary data, for example)\n",
    "* You must pick a different data set than your neighbors and your friends in the class\n",
    "\n",
    "File Format for Data Set: .csv\n",
    "\n",
    "Last Updated: 6 Years Ago"
   ]
  },
  {
   "cell_type": "markdown",
   "metadata": {},
   "source": [
    "# Part 1: Import and Trim Data (12 points)\n",
    "* Import file as a pandas dataframe\n",
    "* Display size of data\n",
    "* Create a numerical pandas series\n",
    "* Convert series data type to floating point numbers\n",
    "* Convert series to a numpy array, remove 'NaN' entries\n",
    "* Compute three common statistics"
   ]
  },
  {
   "cell_type": "markdown",
   "metadata": {},
   "source": [
    "### Import file as a pandas data frame\n",
    "* Store in an appropriately-named variable\n",
    "* Show the first 10 entries:\n",
    "    * This is a good way for you to see if your modification was successful and to see what the data looks like in your data set."
   ]
  },
  {
   "cell_type": "code",
   "execution_count": 2,
   "metadata": {
    "collapsed": true
   },
   "outputs": [
    {
     "data": {
      "text/html": [
       "<div>\n",
       "<style scoped>\n",
       "    .dataframe tbody tr th:only-of-type {\n",
       "        vertical-align: middle;\n",
       "    }\n",
       "\n",
       "    .dataframe tbody tr th {\n",
       "        vertical-align: top;\n",
       "    }\n",
       "\n",
       "    .dataframe thead th {\n",
       "        text-align: right;\n",
       "    }\n",
       "</style>\n",
       "<table border=\"1\" class=\"dataframe\">\n",
       "  <thead>\n",
       "    <tr style=\"text-align: right;\">\n",
       "      <th></th>\n",
       "      <th>pokedex_number</th>\n",
       "      <th>name</th>\n",
       "      <th>classfication</th>\n",
       "      <th>generation</th>\n",
       "      <th>is_legendary</th>\n",
       "      <th>type1</th>\n",
       "      <th>type2</th>\n",
       "      <th>abilities</th>\n",
       "      <th>base_total</th>\n",
       "      <th>hp</th>\n",
       "      <th>...</th>\n",
       "      <th>against_rock</th>\n",
       "      <th>against_steel</th>\n",
       "      <th>against_water</th>\n",
       "      <th>capture_rate</th>\n",
       "      <th>experience_growth</th>\n",
       "      <th>base_happiness</th>\n",
       "      <th>base_egg_steps</th>\n",
       "      <th>height_m</th>\n",
       "      <th>weight_kg</th>\n",
       "      <th>percentage_male</th>\n",
       "    </tr>\n",
       "  </thead>\n",
       "  <tbody>\n",
       "    <tr>\n",
       "      <td>791</td>\n",
       "      <td>792</td>\n",
       "      <td>Lunala</td>\n",
       "      <td>Moone Pokemon</td>\n",
       "      <td>7</td>\n",
       "      <td>1</td>\n",
       "      <td>psychic</td>\n",
       "      <td>ghost</td>\n",
       "      <td>['Shadow Shield']</td>\n",
       "      <td>680</td>\n",
       "      <td>137</td>\n",
       "      <td>...</td>\n",
       "      <td>1.0</td>\n",
       "      <td>1.0</td>\n",
       "      <td>1.0</td>\n",
       "      <td>45</td>\n",
       "      <td>1250000</td>\n",
       "      <td>0</td>\n",
       "      <td>30720</td>\n",
       "      <td>4.0</td>\n",
       "      <td>120.0</td>\n",
       "      <td>NaN</td>\n",
       "    </tr>\n",
       "    <tr>\n",
       "      <td>792</td>\n",
       "      <td>793</td>\n",
       "      <td>Nihilego</td>\n",
       "      <td>Parasite Pokemon</td>\n",
       "      <td>7</td>\n",
       "      <td>1</td>\n",
       "      <td>rock</td>\n",
       "      <td>poison</td>\n",
       "      <td>['Beast Boost']</td>\n",
       "      <td>570</td>\n",
       "      <td>109</td>\n",
       "      <td>...</td>\n",
       "      <td>1.0</td>\n",
       "      <td>2.0</td>\n",
       "      <td>2.0</td>\n",
       "      <td>45</td>\n",
       "      <td>1250000</td>\n",
       "      <td>0</td>\n",
       "      <td>30720</td>\n",
       "      <td>1.2</td>\n",
       "      <td>55.5</td>\n",
       "      <td>NaN</td>\n",
       "    </tr>\n",
       "    <tr>\n",
       "      <td>793</td>\n",
       "      <td>794</td>\n",
       "      <td>Buzzwole</td>\n",
       "      <td>Swollen Pokemon</td>\n",
       "      <td>7</td>\n",
       "      <td>1</td>\n",
       "      <td>bug</td>\n",
       "      <td>fighting</td>\n",
       "      <td>['Beast Boost']</td>\n",
       "      <td>570</td>\n",
       "      <td>107</td>\n",
       "      <td>...</td>\n",
       "      <td>1.0</td>\n",
       "      <td>1.0</td>\n",
       "      <td>1.0</td>\n",
       "      <td>25</td>\n",
       "      <td>1250000</td>\n",
       "      <td>0</td>\n",
       "      <td>30720</td>\n",
       "      <td>2.4</td>\n",
       "      <td>333.6</td>\n",
       "      <td>NaN</td>\n",
       "    </tr>\n",
       "    <tr>\n",
       "      <td>794</td>\n",
       "      <td>795</td>\n",
       "      <td>Pheromosa</td>\n",
       "      <td>Lissome Pokemon</td>\n",
       "      <td>7</td>\n",
       "      <td>1</td>\n",
       "      <td>bug</td>\n",
       "      <td>fighting</td>\n",
       "      <td>['Beast Boost']</td>\n",
       "      <td>570</td>\n",
       "      <td>71</td>\n",
       "      <td>...</td>\n",
       "      <td>1.0</td>\n",
       "      <td>1.0</td>\n",
       "      <td>1.0</td>\n",
       "      <td>255</td>\n",
       "      <td>1250000</td>\n",
       "      <td>0</td>\n",
       "      <td>30720</td>\n",
       "      <td>1.8</td>\n",
       "      <td>25.0</td>\n",
       "      <td>NaN</td>\n",
       "    </tr>\n",
       "    <tr>\n",
       "      <td>795</td>\n",
       "      <td>796</td>\n",
       "      <td>Xurkitree</td>\n",
       "      <td>Glowing Pokemon</td>\n",
       "      <td>7</td>\n",
       "      <td>1</td>\n",
       "      <td>electric</td>\n",
       "      <td>NaN</td>\n",
       "      <td>['Beast Boost']</td>\n",
       "      <td>570</td>\n",
       "      <td>83</td>\n",
       "      <td>...</td>\n",
       "      <td>1.0</td>\n",
       "      <td>0.5</td>\n",
       "      <td>1.0</td>\n",
       "      <td>30</td>\n",
       "      <td>1250000</td>\n",
       "      <td>0</td>\n",
       "      <td>30720</td>\n",
       "      <td>3.8</td>\n",
       "      <td>100.0</td>\n",
       "      <td>NaN</td>\n",
       "    </tr>\n",
       "    <tr>\n",
       "      <td>796</td>\n",
       "      <td>797</td>\n",
       "      <td>Celesteela</td>\n",
       "      <td>Launch Pokemon</td>\n",
       "      <td>7</td>\n",
       "      <td>1</td>\n",
       "      <td>steel</td>\n",
       "      <td>flying</td>\n",
       "      <td>['Beast Boost']</td>\n",
       "      <td>570</td>\n",
       "      <td>97</td>\n",
       "      <td>...</td>\n",
       "      <td>1.0</td>\n",
       "      <td>0.5</td>\n",
       "      <td>1.0</td>\n",
       "      <td>25</td>\n",
       "      <td>1250000</td>\n",
       "      <td>0</td>\n",
       "      <td>30720</td>\n",
       "      <td>9.2</td>\n",
       "      <td>999.9</td>\n",
       "      <td>NaN</td>\n",
       "    </tr>\n",
       "    <tr>\n",
       "      <td>797</td>\n",
       "      <td>798</td>\n",
       "      <td>Kartana</td>\n",
       "      <td>Drawn Sword Pokemon</td>\n",
       "      <td>7</td>\n",
       "      <td>1</td>\n",
       "      <td>grass</td>\n",
       "      <td>steel</td>\n",
       "      <td>['Beast Boost']</td>\n",
       "      <td>570</td>\n",
       "      <td>59</td>\n",
       "      <td>...</td>\n",
       "      <td>0.5</td>\n",
       "      <td>0.5</td>\n",
       "      <td>0.5</td>\n",
       "      <td>255</td>\n",
       "      <td>1250000</td>\n",
       "      <td>0</td>\n",
       "      <td>30720</td>\n",
       "      <td>0.3</td>\n",
       "      <td>0.1</td>\n",
       "      <td>NaN</td>\n",
       "    </tr>\n",
       "    <tr>\n",
       "      <td>798</td>\n",
       "      <td>799</td>\n",
       "      <td>Guzzlord</td>\n",
       "      <td>Junkivore Pokemon</td>\n",
       "      <td>7</td>\n",
       "      <td>1</td>\n",
       "      <td>dark</td>\n",
       "      <td>dragon</td>\n",
       "      <td>['Beast Boost']</td>\n",
       "      <td>570</td>\n",
       "      <td>223</td>\n",
       "      <td>...</td>\n",
       "      <td>1.0</td>\n",
       "      <td>1.0</td>\n",
       "      <td>0.5</td>\n",
       "      <td>15</td>\n",
       "      <td>1250000</td>\n",
       "      <td>0</td>\n",
       "      <td>30720</td>\n",
       "      <td>5.5</td>\n",
       "      <td>888.0</td>\n",
       "      <td>NaN</td>\n",
       "    </tr>\n",
       "    <tr>\n",
       "      <td>799</td>\n",
       "      <td>800</td>\n",
       "      <td>Necrozma</td>\n",
       "      <td>Prism Pokemon</td>\n",
       "      <td>7</td>\n",
       "      <td>1</td>\n",
       "      <td>psychic</td>\n",
       "      <td>NaN</td>\n",
       "      <td>['Prism Armor']</td>\n",
       "      <td>600</td>\n",
       "      <td>97</td>\n",
       "      <td>...</td>\n",
       "      <td>1.0</td>\n",
       "      <td>1.0</td>\n",
       "      <td>1.0</td>\n",
       "      <td>3</td>\n",
       "      <td>1250000</td>\n",
       "      <td>0</td>\n",
       "      <td>30720</td>\n",
       "      <td>2.4</td>\n",
       "      <td>230.0</td>\n",
       "      <td>NaN</td>\n",
       "    </tr>\n",
       "    <tr>\n",
       "      <td>800</td>\n",
       "      <td>801</td>\n",
       "      <td>Magearna</td>\n",
       "      <td>Artificial Pokemon</td>\n",
       "      <td>7</td>\n",
       "      <td>1</td>\n",
       "      <td>steel</td>\n",
       "      <td>fairy</td>\n",
       "      <td>['Soul-Heart']</td>\n",
       "      <td>600</td>\n",
       "      <td>80</td>\n",
       "      <td>...</td>\n",
       "      <td>0.5</td>\n",
       "      <td>1.0</td>\n",
       "      <td>1.0</td>\n",
       "      <td>3</td>\n",
       "      <td>1250000</td>\n",
       "      <td>0</td>\n",
       "      <td>30720</td>\n",
       "      <td>1.0</td>\n",
       "      <td>80.5</td>\n",
       "      <td>NaN</td>\n",
       "    </tr>\n",
       "  </tbody>\n",
       "</table>\n",
       "<p>10 rows × 40 columns</p>\n",
       "</div>"
      ],
      "text/plain": [
       "     pokedex_number        name        classfication generation  is_legendary  \\\n",
       "791             792      Lunala        Moone Pokemon          7             1   \n",
       "792             793    Nihilego     Parasite Pokemon          7             1   \n",
       "793             794    Buzzwole      Swollen Pokemon          7             1   \n",
       "794             795   Pheromosa      Lissome Pokemon          7             1   \n",
       "795             796   Xurkitree      Glowing Pokemon          7             1   \n",
       "796             797  Celesteela       Launch Pokemon          7             1   \n",
       "797             798     Kartana  Drawn Sword Pokemon          7             1   \n",
       "798             799    Guzzlord    Junkivore Pokemon          7             1   \n",
       "799             800    Necrozma        Prism Pokemon          7             1   \n",
       "800             801    Magearna   Artificial Pokemon          7             1   \n",
       "\n",
       "        type1     type2          abilities  base_total   hp  ...  \\\n",
       "791   psychic     ghost  ['Shadow Shield']         680  137  ...   \n",
       "792      rock    poison    ['Beast Boost']         570  109  ...   \n",
       "793       bug  fighting    ['Beast Boost']         570  107  ...   \n",
       "794       bug  fighting    ['Beast Boost']         570   71  ...   \n",
       "795  electric       NaN    ['Beast Boost']         570   83  ...   \n",
       "796     steel    flying    ['Beast Boost']         570   97  ...   \n",
       "797     grass     steel    ['Beast Boost']         570   59  ...   \n",
       "798      dark    dragon    ['Beast Boost']         570  223  ...   \n",
       "799   psychic       NaN    ['Prism Armor']         600   97  ...   \n",
       "800     steel     fairy     ['Soul-Heart']         600   80  ...   \n",
       "\n",
       "     against_rock  against_steel  against_water  capture_rate  \\\n",
       "791           1.0            1.0            1.0            45   \n",
       "792           1.0            2.0            2.0            45   \n",
       "793           1.0            1.0            1.0            25   \n",
       "794           1.0            1.0            1.0           255   \n",
       "795           1.0            0.5            1.0            30   \n",
       "796           1.0            0.5            1.0            25   \n",
       "797           0.5            0.5            0.5           255   \n",
       "798           1.0            1.0            0.5            15   \n",
       "799           1.0            1.0            1.0             3   \n",
       "800           0.5            1.0            1.0             3   \n",
       "\n",
       "     experience_growth  base_happiness  base_egg_steps  height_m  weight_kg  \\\n",
       "791            1250000               0           30720       4.0      120.0   \n",
       "792            1250000               0           30720       1.2       55.5   \n",
       "793            1250000               0           30720       2.4      333.6   \n",
       "794            1250000               0           30720       1.8       25.0   \n",
       "795            1250000               0           30720       3.8      100.0   \n",
       "796            1250000               0           30720       9.2      999.9   \n",
       "797            1250000               0           30720       0.3        0.1   \n",
       "798            1250000               0           30720       5.5      888.0   \n",
       "799            1250000               0           30720       2.4      230.0   \n",
       "800            1250000               0           30720       1.0       80.5   \n",
       "\n",
       "     percentage_male  \n",
       "791              NaN  \n",
       "792              NaN  \n",
       "793              NaN  \n",
       "794              NaN  \n",
       "795              NaN  \n",
       "796              NaN  \n",
       "797              NaN  \n",
       "798              NaN  \n",
       "799              NaN  \n",
       "800              NaN  \n",
       "\n",
       "[10 rows x 40 columns]"
      ]
     },
     "execution_count": 2,
     "metadata": {},
     "output_type": "execute_result"
    }
   ],
   "source": [
    "# To earn points, you must comment your code\n",
    "import pandas as pd\n",
    "\n",
    "# Import data\n",
    "poke_data = pd.read_csv(\"./pokemon_modified.csv\")\n",
    "\n",
    "# display last 10\n",
    "poke_data[-10:]"
   ]
  },
  {
   "cell_type": "markdown",
   "metadata": {},
   "source": [
    "### Display size of data"
   ]
  },
  {
   "cell_type": "code",
   "execution_count": 3,
   "metadata": {
    "collapsed": true
   },
   "outputs": [
    {
     "data": {
      "text/plain": [
       "801"
      ]
     },
     "execution_count": 3,
     "metadata": {},
     "output_type": "execute_result"
    }
   ],
   "source": [
    "# To earn points, you must comment your code\n",
    "\n",
    "len(poke_data)"
   ]
  },
  {
   "cell_type": "markdown",
   "metadata": {},
   "source": [
    "### Create a numerical pandas series\n",
    "* REMINDER: A panda series is similar to a standard list, but works specifically with pandas list of functions\n",
    "* Locate a numerical column of interest in your pandas data frame\n",
    "* Store all values from that column in an appropriately-named variable\n",
    "* Show the first ten entries\n",
    "    * This is a good way for you to see if your modification was successful and to see what the data looks like"
   ]
  },
  {
   "cell_type": "code",
   "execution_count": 4,
   "metadata": {
    "collapsed": true
   },
   "outputs": [
    {
     "data": {
      "text/plain": [
       "0    318\n",
       "1    405\n",
       "2    625\n",
       "3    309\n",
       "4    405\n",
       "5    634\n",
       "6    314\n",
       "7    405\n",
       "8    630\n",
       "9    195\n",
       "Name: base_total, dtype: int64"
      ]
     },
     "execution_count": 4,
     "metadata": {},
     "output_type": "execute_result"
    }
   ],
   "source": [
    "# To earn points, you must comment your code\n",
    "\n",
    "# Grab the base total column\n",
    "base_total_list = poke_data[\"base_total\"]\n",
    "\n",
    "base_total_list[:10]"
   ]
  },
  {
   "cell_type": "markdown",
   "metadata": {},
   "source": [
    "### Convert series data type to floating point numbers\n",
    "* Modify your data appropriately so that your array holds only decimals\n",
    "    * Replace all special characters ('$', '%', '#', etc.)\n",
    "    * Convert all entries to floating point numbers\n",
    "* Show the first 10 entries\n",
    "    * This is a good way for you to see if your modification was successful and to see what the data looks like"
   ]
  },
  {
   "cell_type": "code",
   "execution_count": 5,
   "metadata": {
    "collapsed": true
   },
   "outputs": [
    {
     "data": {
      "text/plain": [
       "0      318.0\n",
       "1      405.0\n",
       "2      625.0\n",
       "3      309.0\n",
       "4      405.0\n",
       "       ...  \n",
       "796    570.0\n",
       "797    570.0\n",
       "798    570.0\n",
       "799    600.0\n",
       "800    600.0\n",
       "Name: base_total, Length: 801, dtype: float64"
      ]
     },
     "execution_count": 5,
     "metadata": {},
     "output_type": "execute_result"
    }
   ],
   "source": [
    "# To earn points, you must comment your code\n",
    "\n",
    "# Convert to float\n",
    "base_total_list = base_total_list.astype(float)\n",
    "\n",
    "base_total_list"
   ]
  },
  {
   "cell_type": "markdown",
   "metadata": {},
   "source": [
    "### Convert series to a numpy array, remove 'NaN' entries\n",
    "* Convert your pandas series to a numpy array with an appr\n",
    "* Remove all 'NaN' entries (if applicable)\n",
    "* Show the first 30 entries\n",
    "    * This is a good way for you to see if your modification was successful and to see what the data looks like"
   ]
  },
  {
   "cell_type": "code",
   "execution_count": 6,
   "metadata": {
    "collapsed": true
   },
   "outputs": [],
   "source": [
    "# To earn points, you must comment your code\n",
    "import numpy as np\n",
    "\n",
    "base_total_list = np.array(base_total_list)\n",
    "\n"
   ]
  },
  {
   "cell_type": "markdown",
   "metadata": {},
   "source": [
    "### Compute three common statistics\n",
    "* Using your numpy array, calculate various common statistics\n",
    "    * Mean\n",
    "    * Median\n",
    "    * Mode\n",
    "    * Standard deviation\n",
    "    * Sums\n",
    "    * Etc.\n",
    "* Indicate which statistic is being calculated in the markdown cell above the code cell"
   ]
  },
  {
   "attachments": {},
   "cell_type": "markdown",
   "metadata": {},
   "source": [
    "##### The mean base stat total is about 428.4."
   ]
  },
  {
   "cell_type": "code",
   "execution_count": 7,
   "metadata": {
    "collapsed": true
   },
   "outputs": [
    {
     "data": {
      "text/plain": [
       "428.3770287141074"
      ]
     },
     "execution_count": 7,
     "metadata": {},
     "output_type": "execute_result"
    }
   ],
   "source": [
    "# To earn points, you must comment your code\n",
    "np.mean(base_total_list)"
   ]
  },
  {
   "attachments": {},
   "cell_type": "markdown",
   "metadata": {},
   "source": [
    "##### The median base stat total is 435"
   ]
  },
  {
   "cell_type": "code",
   "execution_count": 8,
   "metadata": {
    "collapsed": true
   },
   "outputs": [
    {
     "data": {
      "text/plain": [
       "435.0"
      ]
     },
     "execution_count": 8,
     "metadata": {},
     "output_type": "execute_result"
    }
   ],
   "source": [
    "# To earn points, you must comment your code\n",
    "np.median(base_total_list)"
   ]
  },
  {
   "attachments": {},
   "cell_type": "markdown",
   "metadata": {},
   "source": [
    "##### The standard deviation of the base stat total is about 119.13"
   ]
  },
  {
   "cell_type": "code",
   "execution_count": 9,
   "metadata": {
    "collapsed": true
   },
   "outputs": [
    {
     "data": {
      "text/plain": [
       "119.12914412701403"
      ]
     },
     "execution_count": 9,
     "metadata": {},
     "output_type": "execute_result"
    }
   ],
   "source": [
    "# To earn points, you must comment your code\n",
    "np.std(base_total_list)\n"
   ]
  },
  {
   "cell_type": "markdown",
   "metadata": {},
   "source": [
    "# Part 2: Create a Histogram (12 points)\n",
    "* WARNING: DO NOT COPY/PASTE ENTIRE GRAPH CODE ALL AT ONCE\n",
    "    * Use code line-by-line to ensure all values are changed to reflect the ones in this notebook!\n",
    "* REMINDER: Histograms display frequencies of data values grouped together in chosen ranges\n",
    "    * Think - what list is storing the required data?\n",
    "        * Should be a numpy array of numbers\n",
    "    * Think - how will you divide up the data into bins\n",
    "        * What is the minimum value?\n",
    "        * What is the maximum value?\n",
    "        * What should the size of each bin be?\n",
    "            * What numbers should each bin start/stop at?\n",
    "        * Which alignment will you use?     \n",
    "* Create frequency bins\n",
    "* Set graph details\n",
    "* Create and display graph"
   ]
  },
  {
   "cell_type": "markdown",
   "metadata": {},
   "source": [
    "### Create frequency bins and alignment\n",
    "* Create and store a list of 'edge numbers' for your bins in an appropriately-named variable\n",
    "    * Your data should fit between the lowest and highest values\n",
    "    * Use a loop to help create bins quickly"
   ]
  },
  {
   "cell_type": "code",
   "execution_count": 10,
   "metadata": {
    "collapsed": true
   },
   "outputs": [],
   "source": [
    "# To earn points, you must comment your code\n",
    "\n",
    "# Create bins array\n",
    "bins = []\n",
    "for i in range(14):\n",
    "    bin = i * 50\n",
    "    bins.append(bin)\n",
    "    \n"
   ]
  },
  {
   "cell_type": "markdown",
   "metadata": {},
   "source": [
    "### Set graph details\n",
    "* Import matplotlib appropriately\n",
    "* Your graph should be styled uniquely compared to any previously created, and must inlude:\n",
    "    * Title\n",
    "    * X-axis label\n",
    "    * Y-axis label\n",
    "    * Visually appealing style\n",
    "    * Graph color not previously used"
   ]
  },
  {
   "cell_type": "markdown",
   "metadata": {},
   "source": [
    "### Create and display graph\n",
    "* HISTOGRAM SYNTAX: plot.hist(data_array, bins_array, extras...)"
   ]
  },
  {
   "cell_type": "code",
   "execution_count": 11,
   "metadata": {
    "collapsed": true
   },
   "outputs": [
    {
     "data": {
      "image/png": "[encoded data removed]",
      "text/plain": [
       "<Figure size 720x360 with 1 Axes>"
      ]
     },
     "metadata": {},
     "output_type": "display_data"
    }
   ],
   "source": [
    "# To earn points, you must comment your code\n",
    "# Import matplotlib\n",
    "import matplotlib.pyplot as plot\n",
    "%matplotlib inline\n",
    "\n",
    "# Graph style\n",
    "plot.style.use(\"grayscale\")\n",
    "plot.figure(figsize=(10,5))\n",
    "plot.xlim([100,700])\n",
    "\n",
    "# Create title and lables\n",
    "plot.title(\"Pokemon Frequency of Base Stat Totals\")\n",
    "plot.xlabel(\"Base Stat Total\")\n",
    "plot.ylabel(\"Frequency\")\n",
    "\n",
    "# Create histogram\n",
    "plot.hist(base_total_list, bins, align=\"mid\", color=\"lightgreen\", edgecolor=\"black\")\n",
    "plot.show()"
   ]
  },
  {
   "cell_type": "markdown",
   "metadata": {},
   "source": [
    "# Part 3: Modifying Data Using Counts (12 points)\n",
    "* Create a pandas series of value counts\n",
    "* Create two parallel lists"
   ]
  },
  {
   "attachments": {},
   "cell_type": "markdown",
   "metadata": {},
   "source": [
    "### Create a pandas series of value counts\n",
    "* Locate a non-numerical column of interest from your original pandas dataframe\n",
    "    * You will be counting how many times each entry appears in the list\n",
    "    * Your chosen column should:\n",
    "        * Have multiple repeated entries\n",
    "        * Have the ability to be grouped into categories\n",
    "* Create and store a pandas series of value counts in an appropriately-named variable\n",
    "* Show the series of counts\n",
    "    * This is a good way for you to see if your modification was successful and to see what the data looks like"
   ]
  },
  {
   "cell_type": "code",
   "execution_count": 69,
   "metadata": {
    "collapsed": true
   },
   "outputs": [],
   "source": [
    "# To earn points, you must comment your code\n",
    "\n",
    "# Combine types to account for pokemon that are dual type\n",
    "type_data = poke_data[\"type1\"].append(poke_data[\"type2\"], ignore_index=True)\n",
    "\n",
    "type_data = pd.value_counts(type_data)"
   ]
  },
  {
   "cell_type": "markdown",
   "metadata": {},
   "source": [
    "### Create two parallel lists\n",
    "* REMINDERS:\n",
    "    * Use index.tolist() to extract only the category names\n",
    "    * Use tolist() to extract only the statistic of interest\n",
    "* Create a list of the category names from the value count panda series\n",
    "    * Store in an appropriately-named variable\n",
    "    * Ex: [POLICE, FIRE, OEMC, etc...]\n",
    "* Create a list of the frequencies for each entry from the value count panda series\n",
    "    * Store in an appropriately-named variable\n",
    "    * Ex: [13061, 4837, 2120, etc...]\n",
    "* Show each list individually\n",
    "    * This is a good way for you to see if your modifications were successful and to see what the data looks like"
   ]
  },
  {
   "cell_type": "code",
   "execution_count": 64,
   "metadata": {
    "collapsed": true
   },
   "outputs": [
    {
     "name": "stdout",
     "output_type": "stream",
     "text": [
      "['Water', 'Normal', 'Grass', 'Flying', 'Psychic', 'Bug', 'Ground', 'Poison', 'Fire', 'Rock', 'Fighting', 'Dark', 'Electric', 'Fairy', 'Steel', 'Dragon', 'Ghost', 'Ice'] [131, 109, 98, 98, 82, 77, 66, 66, 65, 59, 53, 50, 48, 47, 46, 44, 41, 38]\n"
     ]
    }
   ],
   "source": [
    "# To earn points, you must comment your code\n",
    "types = type_data.index.tolist()\n",
    "types_num = type_data.tolist()\n",
    "\n",
    "for i, _ in enumerate(types):\n",
    "    types[i] = types[i].capitalize()\n",
    "\n",
    "print(types, types_num)"
   ]
  },
  {
   "cell_type": "markdown",
   "metadata": {},
   "source": [
    "# Part 4: Create a Pie Chart (12 points)\n",
    "* WARNING: DO NOT COPY/PASTE ENTIRE GRAPH CODE ALL AT ONCE\n",
    "    * Use code line-by-line to ensure all values are changed to reflect the ones in this notebook!\n",
    "* REMINDER: Pie charts display the ratio of values in comparison to the whole\n",
    "    * Think - Which lists are storing the required data?\n",
    "        * One list of counts\n",
    "        * One list of labels\n",
    "* NOTE: If you have 9 or more categories you should create an \"Other\" category to earn full credit!\n",
    "* Create an \"Other\" category (if necessary)\n",
    "* Set graph details\n",
    "* Create and display graph"
   ]
  },
  {
   "cell_type": "markdown",
   "metadata": {},
   "source": [
    "### Create an \"Other\" category (if necessary)\n",
    "* If you have 9 or more categories, lump the remainging categories as one \"Other\" category\n",
    "* All labels should be clearly visible"
   ]
  },
  {
   "cell_type": "code",
   "execution_count": 77,
   "metadata": {
    "collapsed": true
   },
   "outputs": [],
   "source": [
    "# To earn points, you must comment your code"
   ]
  },
  {
   "cell_type": "markdown",
   "metadata": {},
   "source": [
    "### Set graph details\n",
    "* Import matplotlib appropriately\n",
    "* Your graph should be styled uniquely compared to any previously created, and must inlude:\n",
    "    * Title\n",
    "    * Appropriate labels\n",
    "    * Visually appealing style\n",
    "    * Graph color not previously used"
   ]
  },
  {
   "cell_type": "markdown",
   "metadata": {},
   "source": [
    "### Create and display graph\n",
    "* PIE CHART SYNTAX: plot.pie(counts_list, labels_list, extras...)"
   ]
  },
  {
   "cell_type": "code",
   "execution_count": 76,
   "metadata": {
    "collapsed": true
   },
   "outputs": [
    {
     "data": {
      "image/png": "[encoded data removed]",
      "text/plain": [
       "<Figure size 936x936 with 1 Axes>"
      ]
     },
     "metadata": {},
     "output_type": "display_data"
    }
   ],
   "source": [
    "# To earn points, you must comment your code\n",
    "\n",
    "# Import matplotlib\n",
    "import matplotlib.pyplot as plot\n",
    "%matplotlib inline\n",
    "\n",
    "# Graph details\n",
    "plot.figure(figsize=(13,13))\n",
    "plot.title(\"Type Spread of Pokemon\")\n",
    "plot.style.use(\"ggplot\")\n",
    "colors_array = [\"blue\", \"gray\", \"darkgreen\", \"lightblue\", \"pink\", \"green\", \"brown\", \"purple\", \"red\", \"#69594b\", \"darkorange\", \"darkgray\", \"yellow\", \"lightpink\", \"lightgray\", \"darkblue\", \"#460c69\", \"#d9feff\"]\n",
    "\n",
    "# To earn points, you must comment your code\n",
    "# Create pie chart\n",
    "    # plot.pie(data array, labels array, color array, percentages, shadow)\n",
    "plot.pie(types_num, labels=types, colors=colors_array, autopct=\"%1.1f%%\", shadow=True, textprops={\"color\": \"black\", \"size\": \"x-large\"})\n",
    "plot.show()"
   ]
  },
  {
   "cell_type": "markdown",
   "metadata": {},
   "source": [
    "# Part 5: Be a Data Scientist! (24 points)\n",
    "* Create an additional question\n",
    "* Create an appropriate pandas series\n",
    "* Split into individual lists\n",
    "* Create list of sorted tuples\n",
    "* Split into individual sorted lists"
   ]
  },
  {
   "cell_type": "markdown",
   "metadata": {},
   "source": [
    "### Create an additional question\n",
    "* How else can your categories be compared?\n",
    "* What additional number can your categories be compared by?\n",
    "    * Ex: Which category has largest/smallest...\n",
    "        * ...average?\n",
    "        * ...maximum?\n",
    "        * ...minimum?\n",
    "        * ...standard deviation?\n",
    "* State your question relative to the data you are working with"
   ]
  },
  {
   "cell_type": "markdown",
   "metadata": {},
   "source": [
    "## Question: INSERT QUESTION HERE"
   ]
  },
  {
   "cell_type": "markdown",
   "metadata": {},
   "source": [
    "### Create an appropriate pandas series\n",
    "* REMINDER: Use .groupby() to organize your series based on another column's data"
   ]
  },
  {
   "cell_type": "code",
   "execution_count": 17,
   "metadata": {
    "collapsed": true
   },
   "outputs": [],
   "source": [
    "# To earn points, you must comment your code\n"
   ]
  },
  {
   "cell_type": "markdown",
   "metadata": {},
   "source": [
    "### Split into individual lists\n",
    "* Create two parallel lists \n",
    "    * One list of categories\n",
    "    * One list of statistics of interest\n",
    "* Show each list individually\n",
    "    * This is a good way for you to see if your modifications were successful and to see what the data looks like"
   ]
  },
  {
   "cell_type": "code",
   "execution_count": 18,
   "metadata": {
    "collapsed": true
   },
   "outputs": [],
   "source": [
    "# To earn points, you must comment your code\n"
   ]
  },
  {
   "cell_type": "markdown",
   "metadata": {},
   "source": [
    "### Create list of sorted tuples\n",
    "* Loop through parallel lists to create tuples in the form (category, statistic)\n",
    "* Sort appropriately\n",
    "    * REMINDER: Use list_name.sort(key=lambda x: x[1], reverse=True) to sort\n",
    "* Show the list\n",
    "    * This is a good way for you to see if your modifications were successful and to see what the data looks like"
   ]
  },
  {
   "cell_type": "code",
   "execution_count": 19,
   "metadata": {
    "collapsed": true
   },
   "outputs": [],
   "source": [
    "# To earn points, you must comment your code\n"
   ]
  },
  {
   "cell_type": "markdown",
   "metadata": {},
   "source": [
    "### Split into individual sorted lists\n",
    "* Option #1\n",
    "    * List iterator\n",
    "    * list_name = ['specific stat' for 'entry' in 'name of array']\n",
    "    * Read as: A list of every 'specific stat' for every 'entry' in the array 'name of array'\n",
    "* Option #2\n",
    "    * Loops\n",
    "    * Create an empty list\n",
    "    * Run a loop that:\n",
    "        * Stores each appropriate category and statistic\n",
    "        * Converts them to a tuple\n",
    "        * Adds the tuple to the list\n",
    "* Show the list\n",
    "    * This is a good way for you to see if your modifications were successful and to see what the data looks like"
   ]
  },
  {
   "cell_type": "code",
   "execution_count": 20,
   "metadata": {
    "collapsed": true
   },
   "outputs": [],
   "source": [
    "# To earn points, you must comment your code\n"
   ]
  },
  {
   "cell_type": "markdown",
   "metadata": {},
   "source": [
    "# Part 6: Create a Bar Chart to Visualize Data (12 points)\n",
    "* WARNING: DO NOT COPY/PASTE ENTIRE GRAPH CODE ALL AT ONCE\n",
    "    * Use code line-by-line to ensure all values are changed to reflect the ones in this notebook!\n",
    "* REMINDER: Bar charts displays one item's value compared to others'\n",
    "    * Think - which lists are holding the required data?\n",
    "        * One list of 'bar positions'\n",
    "        * One list of statistics of interest\n",
    "        * One list of labels\n",
    "* Create a 'bar position list'\n",
    "* Set graph details\n",
    "* Create and display graph"
   ]
  },
  {
   "cell_type": "markdown",
   "metadata": {},
   "source": [
    "### Create a 'bar position list'\n",
    "* REMINDER: Use np.arange(start, length+1)"
   ]
  },
  {
   "cell_type": "code",
   "execution_count": 21,
   "metadata": {
    "collapsed": true
   },
   "outputs": [],
   "source": [
    "# To earn points, you must comment your code\n"
   ]
  },
  {
   "cell_type": "markdown",
   "metadata": {},
   "source": [
    "## Set graph details\n",
    "* Import matplotlib appropriately\n",
    "* Your graph should be styled uniquely compared to any previously created, and must inlude:\n",
    "    * Title\n",
    "    * X-axis label\n",
    "    * Y-axis label\n",
    "    * Bar labels (xticks)\n",
    "    * Visually appealing style\n",
    "    * Graph color not previously used"
   ]
  },
  {
   "cell_type": "code",
   "execution_count": 22,
   "metadata": {
    "collapsed": true
   },
   "outputs": [],
   "source": [
    "# To earn points, you must comment your code\n"
   ]
  },
  {
   "cell_type": "markdown",
   "metadata": {},
   "source": [
    "### Create and display graph\n",
    "* BAR GRAPH SYNTAX: plot.bar(bars_list, stat_list, etc.)"
   ]
  },
  {
   "cell_type": "code",
   "execution_count": 23,
   "metadata": {
    "collapsed": true
   },
   "outputs": [],
   "source": [
    "# To earn points, you must comment your code\n"
   ]
  },
  {
   "cell_type": "markdown",
   "metadata": {},
   "source": [
    "# Part 7: Answer (12 points)"
   ]
  },
  {
   "cell_type": "markdown",
   "metadata": {},
   "source": [
    "### Answer the original question at hand\n",
    "* Your response must:\n",
    "    * Clearly state a data-based answer\n",
    "    * Contain a brief summary of how the data was organized and compared\n",
    "    * Describe how your visualization helps verify the stated answer"
   ]
  },
  {
   "cell_type": "markdown",
   "metadata": {},
   "source": [
    "## Answer: INSERT YOUR ANSWER HERE. WRITE IN COMPLETE SENTENCES."
   ]
  },
  {
   "cell_type": "markdown",
   "metadata": {},
   "source": [
    "# Part 8: Reflection (4 points)"
   ]
  },
  {
   "cell_type": "markdown",
   "metadata": {},
   "source": [
    "### What do you think are some of the limitations of your analysis?\n",
    "* Was there additional data that you would've liked to have used if it were available?\n",
    "* Did time limit you from answering a different interesting question?\n",
    "* Is there anything you would have liked to have dug into deeper?\n",
    "* Provide a thoughtful, well-written response"
   ]
  },
  {
   "cell_type": "markdown",
   "metadata": {
    "collapsed": true
   },
   "source": [
    "## Answer: INSERT YOUR ANSWER HERE. WRITE IN COMPLETE SENTENCES."
   ]
  },
  {
   "cell_type": "code",
   "execution_count": null,
   "metadata": {},
   "outputs": [],
   "source": []
  }
 ],
 "metadata": {
  "kernelspec": {
   "display_name": "Python 3",
   "language": "python",
   "name": "python3"
  },
  "language_info": {
   "codemirror_mode": {
    "name": "ipython",
    "version": 3
   },
   "file_extension": ".py",
   "mimetype": "text/x-python",
   "name": "python",
   "nbconvert_exporter": "python",
   "pygments_lexer": "ipython3",
   "version": "3.7.4"
  }
 },
 "nbformat": 4,
 "nbformat_minor": 1
}
